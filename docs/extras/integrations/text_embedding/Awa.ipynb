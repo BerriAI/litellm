{
 "cells": [
  {
   "cell_type": "markdown",
   "id": "b14a24db",
   "metadata": {},
   "source": [
    "# AwaEmbedding\n",
    "\n",
    "This notebook explains how to use AwaEmbedding, which is included in [awadb](https://github.com/awa-ai/awadb), to embedding texts in langchain."
   ]
  },
  {
   "cell_type": "code",
   "execution_count": 1,
   "id": "0ab948fc",
   "metadata": {},
   "outputs": [],
   "source": [
    "# pip install awadb"
   ]
  },
  {
   "cell_type": "markdown",
   "id": "67c637ca",
   "metadata": {},
   "source": [
    "## import the library"
   ]
  },
  {
   "cell_type": "code",
   "execution_count": 2,
   "id": "5709b030",
   "metadata": {},
   "outputs": [],
   "source": [
    "from langchain.embeddings import AwaEmbeddings"
   ]
  },
  {
   "cell_type": "code",
   "execution_count": 3,
   "id": "1756b1ba",
   "metadata": {},
   "outputs": [],
   "source": [
    "Embedding = AwaEmbeddings()"
   ]
  },
  {
   "cell_type": "markdown",
   "id": "4a2a098d",
   "metadata": {},
   "source": [
    "# Set embedding model\n",
    "Users can use `Embedding.set_model()` to specify the embedding model. \\\n",
    "The input of this function is a string which represents the model's name. \\\n",
    "The list of currently supported models can be obtained [here](https://github.com/awa-ai/awadb) \\ \\ \n",
    "\n",
    "The **default model** is `all-mpnet-base-v2`, it can be used without setting."
   ]
  },
  {
   "cell_type": "code",
   "execution_count": 4,
   "id": "584b9af5",
   "metadata": {},
   "outputs": [],
   "source": [
    "text = \"our embedding test\"\n",
    "\n",
    "Embedding.set_model(\"all-mpnet-base-v2\")"
   ]
  },
  {
   "cell_type": "code",
   "execution_count": 5,
   "id": "be18b873",
   "metadata": {},
   "outputs": [],
   "source": [
    "res_query = Embedding.embed_query(\"The test information\")\n",
    "res_document = Embedding.embed_documents([\"test1\", \"another test\"])"
   ]
  }
 ],
 "metadata": {
  "kernelspec": {
   "display_name": "Python 3 (ipykernel)",
   "language": "python",
   "name": "python3"
  },
  "language_info": {
   "codemirror_mode": {
    "name": "ipython",
    "version": 3
   },
   "file_extension": ".py",
   "mimetype": "text/x-python",
   "name": "python",
   "nbconvert_exporter": "python",
   "pygments_lexer": "ipython3",
   "version": "3.11.4"
  }
 },
 "nbformat": 4,
 "nbformat_minor": 5
}
