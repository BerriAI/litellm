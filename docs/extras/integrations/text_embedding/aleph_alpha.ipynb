{
 "cells": [
  {
   "cell_type": "markdown",
   "id": "eb1c0ea9",
   "metadata": {},
   "source": [
    "# Aleph Alpha\n",
    "\n",
    "There are two possible ways to use Aleph Alpha's semantic embeddings. If you have texts with a dissimilar structure (e.g. a Document and a Query) you would want to use asymmetric embeddings. Conversely, for texts with comparable structures, symmetric embeddings are the suggested approach."
   ]
  },
  {
   "cell_type": "markdown",
   "id": "9ecc84f9",
   "metadata": {},
   "source": [
    "## Asymmetric"
   ]
  },
  {
   "cell_type": "code",
   "execution_count": 2,
   "id": "8a920a89",
   "metadata": {},
   "outputs": [],
   "source": [
    "from langchain.embeddings import AlephAlphaAsymmetricSemanticEmbedding"
   ]
  },
  {
   "cell_type": "code",
   "execution_count": 3,
   "id": "f2d04da3",
   "metadata": {},
   "outputs": [],
   "source": [
    "document = \"This is a content of the document\"\n",
    "query = \"What is the contnt of the document?\""
   ]
  },
  {
   "cell_type": "code",
   "execution_count": null,
   "id": "e6ecde96",
   "metadata": {},
   "outputs": [],
   "source": [
    "embeddings = AlephAlphaAsymmetricSemanticEmbedding()"
   ]
  },
  {
   "cell_type": "code",
   "execution_count": null,
   "id": "90e68411",
   "metadata": {},
   "outputs": [],
   "source": [
    "doc_result = embeddings.embed_documents([document])"
   ]
  },
  {
   "cell_type": "code",
   "execution_count": null,
   "id": "55903233",
   "metadata": {},
   "outputs": [],
   "source": [
    "query_result = embeddings.embed_query(query)"
   ]
  },
  {
   "cell_type": "markdown",
   "id": "b8c00aab",
   "metadata": {},
   "source": [
    "## Symmetric"
   ]
  },
  {
   "cell_type": "code",
   "execution_count": null,
   "id": "eabb763a",
   "metadata": {},
   "outputs": [],
   "source": [
    "from langchain.embeddings import AlephAlphaSymmetricSemanticEmbedding"
   ]
  },
  {
   "cell_type": "code",
   "execution_count": 4,
   "id": "0ad799f7",
   "metadata": {},
   "outputs": [],
   "source": [
    "text = \"This is a test text\""
   ]
  },
  {
   "cell_type": "code",
   "execution_count": null,
   "id": "af86dc10",
   "metadata": {},
   "outputs": [],
   "source": [
    "embeddings = AlephAlphaSymmetricSemanticEmbedding()"
   ]
  },
  {
   "cell_type": "code",
   "execution_count": null,
   "id": "d292536f",
   "metadata": {},
   "outputs": [],
   "source": [
    "doc_result = embeddings.embed_documents([text])"
   ]
  },
  {
   "cell_type": "code",
   "execution_count": null,
   "id": "c704a7cf",
   "metadata": {},
   "outputs": [],
   "source": [
    "query_result = embeddings.embed_query(text)"
   ]
  },
  {
   "cell_type": "code",
   "execution_count": null,
   "id": "33492471",
   "metadata": {},
   "outputs": [],
   "source": []
  }
 ],
 "metadata": {
  "kernelspec": {
   "display_name": "Python 3 (ipykernel)",
   "language": "python",
   "name": "python3"
  },
  "language_info": {
   "codemirror_mode": {
    "name": "ipython",
    "version": 3
   },
   "file_extension": ".py",
   "mimetype": "text/x-python",
   "name": "python",
   "nbconvert_exporter": "python",
   "pygments_lexer": "ipython3",
   "version": "3.9.1"
  },
  "vscode": {
   "interpreter": {
    "hash": "7377c2ccc78bc62c2683122d48c8cd1fb85a53850a1b1fc29736ed39852c9885"
   }
  }
 },
 "nbformat": 4,
 "nbformat_minor": 5
}
