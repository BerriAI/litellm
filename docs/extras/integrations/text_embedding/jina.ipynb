{
 "cells": [
  {
   "cell_type": "markdown",
   "id": "1c0cf975",
   "metadata": {},
   "source": [
    "# Jina\n",
    "\n",
    "Let's load the Jina Embedding class."
   ]
  },
  {
   "cell_type": "code",
   "execution_count": 2,
   "id": "d94c62b4",
   "metadata": {},
   "outputs": [],
   "source": [
    "from langchain.embeddings import JinaEmbeddings"
   ]
  },
  {
   "cell_type": "code",
   "execution_count": null,
   "id": "523a09e3",
   "metadata": {},
   "outputs": [],
   "source": [
    "embeddings = JinaEmbeddings(\n",
    "    jina_auth_token=jina_auth_token, model_name=\"ViT-B-32::openai\"\n",
    ")"
   ]
  },
  {
   "cell_type": "code",
   "execution_count": null,
   "id": "b212bd5a",
   "metadata": {},
   "outputs": [],
   "source": [
    "text = \"This is a test document.\""
   ]
  },
  {
   "cell_type": "code",
   "execution_count": null,
   "id": "57db66bd",
   "metadata": {},
   "outputs": [],
   "source": [
    "query_result = embeddings.embed_query(text)"
   ]
  },
  {
   "cell_type": "code",
   "execution_count": null,
   "id": "b790fd09",
   "metadata": {},
   "outputs": [],
   "source": [
    "doc_result = embeddings.embed_documents([text])"
   ]
  },
  {
   "cell_type": "markdown",
   "id": "6f3607a0",
   "metadata": {},
   "source": [
    "In the above example, `ViT-B-32::openai`, OpenAI's pretrained `ViT-B-32` model is used. For a full list of models, see [here](https://cloud.jina.ai/user/inference/model/63dca9df5a0da83009d519cd)."
   ]
  },
  {
   "cell_type": "code",
   "execution_count": null,
   "id": "cd5f148e",
   "metadata": {},
   "outputs": [],
   "source": []
  }
 ],
 "metadata": {
  "kernelspec": {
   "display_name": "Python 3 (ipykernel)",
   "language": "python",
   "name": "python3"
  },
  "language_info": {
   "codemirror_mode": {
    "name": "ipython",
    "version": 3
   },
   "file_extension": ".py",
   "mimetype": "text/x-python",
   "name": "python",
   "nbconvert_exporter": "python",
   "pygments_lexer": "ipython3",
   "version": "3.9.1"
  }
 },
 "nbformat": 4,
 "nbformat_minor": 5
}
