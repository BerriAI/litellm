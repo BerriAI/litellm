{
 "cells": [
  {
   "cell_type": "markdown",
   "id": "75e378f5-55d7-44b6-8e2e-6d7b8b171ec4",
   "metadata": {},
   "source": [
    "# Bedrock Embeddings"
   ]
  },
  {
   "cell_type": "code",
   "execution_count": null,
   "id": "2dbe40fa-7c0b-4bcb-a712-230bf613a42f",
   "metadata": {},
   "outputs": [],
   "source": [
    "%pip install boto3"
   ]
  },
  {
   "cell_type": "code",
   "execution_count": null,
   "id": "282239c8-e03a-4abc-86c1-ca6120231a20",
   "metadata": {},
   "outputs": [],
   "source": [
    "from langchain.embeddings import BedrockEmbeddings\n",
    "\n",
    "embeddings = BedrockEmbeddings(\n",
    "    credentials_profile_name=\"bedrock-admin\", endpoint_url=\"custom_endpoint_url\"\n",
    ")"
   ]
  },
  {
   "cell_type": "code",
   "execution_count": null,
   "id": "19a46868-4bed-40cd-89ca-9813fbfda9cb",
   "metadata": {},
   "outputs": [],
   "source": [
    "embeddings.embed_query(\"This is a content of the document\")"
   ]
  },
  {
   "cell_type": "code",
   "execution_count": null,
   "id": "cf0349c4-6408-4342-8691-69276a388784",
   "metadata": {},
   "outputs": [],
   "source": [
    "embeddings.embed_documents([\"This is a content of the document\"])"
   ]
  }
 ],
 "metadata": {
  "kernelspec": {
   "display_name": "Python 3 (ipykernel)",
   "language": "python",
   "name": "python3"
  },
  "language_info": {
   "codemirror_mode": {
    "name": "ipython",
    "version": 3
   },
   "file_extension": ".py",
   "mimetype": "text/x-python",
   "name": "python",
   "nbconvert_exporter": "python",
   "pygments_lexer": "ipython3",
   "version": "3.10.11"
  }
 },
 "nbformat": 4,
 "nbformat_minor": 5
}
