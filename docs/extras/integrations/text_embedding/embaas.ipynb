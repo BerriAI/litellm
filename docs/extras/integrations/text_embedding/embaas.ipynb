{
 "cells": [
  {
   "cell_type": "markdown",
   "metadata": {},
   "source": [
    "# Embaas\n",
    "\n",
    "[embaas](https://embaas.io) is a fully managed NLP API service that offers features like embedding generation, document text extraction, document to embeddings and more. You can choose a [variety of pre-trained models](https://embaas.io/docs/models/embeddings).\n",
    "\n",
    "In this tutorial, we will show you how to use the embaas Embeddings API to generate embeddings for a given text.\n",
    "\n",
    "### Prerequisites\n",
    "Create your free embaas account at [https://embaas.io/register](https://embaas.io/register) and generate an [API key](https://embaas.io/dashboard/api-keys)."
   ]
  },
  {
   "cell_type": "code",
   "execution_count": null,
   "metadata": {},
   "outputs": [],
   "source": [
    "# Set API key\n",
    "embaas_api_key = \"YOUR_API_KEY\"\n",
    "# or set environment variable\n",
    "os.environ[\"EMBAAS_API_KEY\"] = \"YOUR_API_KEY\""
   ]
  },
  {
   "cell_type": "code",
   "execution_count": null,
   "metadata": {},
   "outputs": [],
   "source": [
    "from langchain.embeddings import EmbaasEmbeddings"
   ]
  },
  {
   "cell_type": "code",
   "execution_count": null,
   "metadata": {},
   "outputs": [],
   "source": [
    "embeddings = EmbaasEmbeddings()"
   ]
  },
  {
   "cell_type": "code",
   "execution_count": null,
   "metadata": {
    "ExecuteTime": {
     "end_time": "2023-06-10T11:17:55.940265Z",
     "start_time": "2023-06-10T11:17:55.938517Z"
    }
   },
   "outputs": [],
   "source": [
    "# Create embeddings for a single document\n",
    "doc_text = \"This is a test document.\"\n",
    "doc_text_embedding = embeddings.embed_query(doc_text)"
   ]
  },
  {
   "cell_type": "code",
   "execution_count": null,
   "metadata": {},
   "outputs": [],
   "source": [
    "# Print created embedding\n",
    "print(doc_text_embedding)"
   ]
  },
  {
   "cell_type": "code",
   "execution_count": 9,
   "metadata": {
    "ExecuteTime": {
     "end_time": "2023-06-10T11:19:25.237161Z",
     "start_time": "2023-06-10T11:19:25.235320Z"
    }
   },
   "outputs": [],
   "source": [
    "# Create embeddings for multiple documents\n",
    "doc_texts = [\"This is a test document.\", \"This is another test document.\"]\n",
    "doc_texts_embeddings = embeddings.embed_documents(doc_texts)"
   ]
  },
  {
   "cell_type": "code",
   "execution_count": null,
   "metadata": {},
   "outputs": [],
   "source": [
    "# Print created embeddings\n",
    "for i, doc_text_embedding in enumerate(doc_texts_embeddings):\n",
    "    print(f\"Embedding for document {i + 1}: {doc_text_embedding}\")"
   ]
  },
  {
   "cell_type": "code",
   "execution_count": 11,
   "metadata": {
    "ExecuteTime": {
     "end_time": "2023-06-10T11:22:26.139769Z",
     "start_time": "2023-06-10T11:22:26.138357Z"
    }
   },
   "outputs": [],
   "source": [
    "# Using a different model and/or custom instruction\n",
    "embeddings = EmbaasEmbeddings(\n",
    "    model=\"instructor-large\",\n",
    "    instruction=\"Represent the Wikipedia document for retrieval\",\n",
    ")"
   ]
  },
  {
   "cell_type": "markdown",
   "metadata": {},
   "source": [
    "For more detailed information about the embaas Embeddings API, please refer to [the official embaas API documentation](https://embaas.io/api-reference)."
   ]
  }
 ],
 "metadata": {
  "kernelspec": {
   "display_name": "Python 3 (ipykernel)",
   "language": "python",
   "name": "python3"
  },
  "language_info": {
   "codemirror_mode": {
    "name": "ipython",
    "version": 3
   },
   "file_extension": ".py",
   "mimetype": "text/x-python",
   "name": "python",
   "nbconvert_exporter": "python",
   "pygments_lexer": "ipython3",
   "version": "3.9.1"
  }
 },
 "nbformat": 4,
 "nbformat_minor": 1
}
