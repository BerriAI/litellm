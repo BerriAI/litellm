{
  "cells": [
    {
      "attachments": {},
      "cell_type": "markdown",
      "id": "683953b3",
      "metadata": {},
      "source": [
        "# Qdrant\n",
        "\n",
        ">[Qdrant](https://qdrant.tech/documentation/) (read: quadrant ) is a vector similarity search engine. It provides a production-ready service with a convenient API to store, search, and manage points - vectors with an additional payload. `Qdrant` is tailored to extended filtering support. It makes it useful for all sorts of neural network or semantic-based matching, faceted search, and other applications.\n",
        "\n",
        "\n",
        "This notebook shows how to use functionality related to the `Qdrant` vector database. \n",
        "\n",
        "There are various modes of how to run `Qdrant`, and depending on the chosen one, there will be some subtle differences. The options include:\n",
        "- Local mode, no server required\n",
        "- On-premise server deployment\n",
        "- Qdrant Cloud\n",
        "\n",
        "See the [installation instructions](https://qdrant.tech/documentation/install/)."
      ]
    },
    {
      "cell_type": "code",
      "execution_count": null,
      "id": "e03e8460-8f32-4d1f-bb93-4f7636a476fa",
      "metadata": {
        "tags": []
      },
      "outputs": [],
      "source": [
        "!pip install qdrant-client"
      ]
    },
    {
      "attachments": {},
      "cell_type": "markdown",
      "id": "7b2f111b-357a-4f42-9730-ef0603bdc1b5",
      "metadata": {},
      "source": [
        "We want to use `OpenAIEmbeddings` so we have to get the OpenAI API Key."
      ]
    },
    {
      "cell_type": "code",
      "execution_count": 2,
      "id": "082e7e8b-ac52-430c-98d6-8f0924457642",
      "metadata": {
        "tags": []
      },
      "outputs": [
        {
          "name": "stdout",
          "output_type": "stream",
          "text": [
            "OpenAI API Key: \u00b7\u00b7\u00b7\u00b7\u00b7\u00b7\u00b7\u00b7\n"
          ]
        }
      ],
      "source": [
        "import os\n",
        "import getpass\n",
        "\n",
        "os.environ[\"OPENAI_API_KEY\"] = getpass.getpass(\"OpenAI API Key:\")"
      ]
    },
    {
      "cell_type": "code",
      "execution_count": 3,
      "id": "aac9563e",
      "metadata": {
        "ExecuteTime": {
          "end_time": "2023-04-04T10:51:22.282884Z",
          "start_time": "2023-04-04T10:51:21.408077Z"
        },
        "tags": []
      },
      "outputs": [],
      "source": [
        "from langchain.embeddings.openai import OpenAIEmbeddings\n",
        "from langchain.text_splitter import CharacterTextSplitter\n",
        "from langchain.vectorstores import Qdrant\n",
        "from langchain.document_loaders import TextLoader"
      ]
    },
    {
      "cell_type": "code",
      "execution_count": 4,
      "id": "a3c3999a",
      "metadata": {
        "ExecuteTime": {
          "end_time": "2023-04-04T10:51:22.520144Z",
          "start_time": "2023-04-04T10:51:22.285826Z"
        },
        "tags": []
      },
      "outputs": [],
      "source": [
        "loader = TextLoader(\"../../../state_of_the_union.txt\")\n",
        "documents = loader.load()\n",
        "text_splitter = CharacterTextSplitter(chunk_size=1000, chunk_overlap=0)\n",
        "docs = text_splitter.split_documents(documents)\n",
        "\n",
        "embeddings = OpenAIEmbeddings()"
      ]
    },
    {
      "attachments": {},
      "cell_type": "markdown",
      "id": "eeead681",
      "metadata": {},
      "source": [
        "## Connecting to Qdrant from LangChain\n",
        "\n",
        "### Local mode\n",
        "\n",
        "Python client allows you to run the same code in local mode without running the Qdrant server. That's great for testing things out and debugging or if you plan to store just a small amount of vectors. The embeddings might be fully kepy in memory or persisted on disk.\n",
        "\n",
        "#### In-memory\n",
        "\n",
        "For some testing scenarios and quick experiments, you may prefer to keep all the data in memory only, so it gets lost when the client is destroyed - usually at the end of your script/notebook."
      ]
    },
    {
      "cell_type": "code",
      "execution_count": 5,
      "id": "8429667e",
      "metadata": {
        "ExecuteTime": {
          "end_time": "2023-04-04T10:51:22.525091Z",
          "start_time": "2023-04-04T10:51:22.522015Z"
        },
        "tags": []
      },
      "outputs": [],
      "source": [
        "qdrant = Qdrant.from_documents(\n",
        "    docs,\n",
        "    embeddings,\n",
        "    location=\":memory:\",  # Local mode with in-memory storage only\n",
        "    collection_name=\"my_documents\",\n",
        ")"
      ]
    },
    {
      "attachments": {},
      "cell_type": "markdown",
      "id": "59f0b954",
      "metadata": {},
      "source": [
        "#### On-disk storage\n",
        "\n",
        "Local mode, without using the Qdrant server, may also store your vectors on disk so they're persisted between runs."
      ]
    },
    {
      "cell_type": "code",
      "execution_count": 6,
      "id": "24b370e2",
      "metadata": {
        "ExecuteTime": {
          "end_time": "2023-04-04T10:51:24.827567Z",
          "start_time": "2023-04-04T10:51:22.529080Z"
        },
        "tags": []
      },
      "outputs": [],
      "source": [
        "qdrant = Qdrant.from_documents(\n",
        "    docs,\n",
        "    embeddings,\n",
        "    path=\"/tmp/local_qdrant\",\n",
        "    collection_name=\"my_documents\",\n",
        ")"
      ]
    },
    {
      "attachments": {},
      "cell_type": "markdown",
      "id": "749658ce",
      "metadata": {},
      "source": [
        "### On-premise server deployment\n",
        "\n",
        "No matter if you choose to launch Qdrant locally with [a Docker container](https://qdrant.tech/documentation/install/), or select a Kubernetes deployment with [the official Helm chart](https://github.com/qdrant/qdrant-helm), the way you're going to connect to such an instance will be identical. You'll need to provide a URL pointing to the service."
      ]
    },
    {
      "cell_type": "code",
      "execution_count": 5,
      "id": "91e7f5ce",
      "metadata": {
        "ExecuteTime": {
          "end_time": "2023-04-04T10:51:24.832708Z",
          "start_time": "2023-04-04T10:51:24.829905Z"
        }
      },
      "outputs": [],
      "source": [
        "url = \"<---qdrant url here --->\"\n",
        "qdrant = Qdrant.from_documents(\n",
        "    docs,\n",
        "    embeddings,\n",
        "    url,\n",
        "    prefer_grpc=True,\n",
        "    collection_name=\"my_documents\",\n",
        ")"
      ]
    },
    {
      "attachments": {},
      "cell_type": "markdown",
      "id": "c9e21ce9",
      "metadata": {},
      "source": [
        "### Qdrant Cloud\n",
        "\n",
        "If you prefer not to keep yourself busy with managing the infrastructure, you can choose to set up a fully-managed Qdrant cluster on [Qdrant Cloud](https://cloud.qdrant.io/). There is a free forever 1GB cluster included for trying out. The main difference with using a managed version of Qdrant is that you'll need to provide an API key to secure your deployment from being accessed publicly."
      ]
    },
    {
      "cell_type": "code",
      "execution_count": 6,
      "id": "dcf88bdf",
      "metadata": {
        "ExecuteTime": {
          "end_time": "2023-04-04T10:51:24.837599Z",
          "start_time": "2023-04-04T10:51:24.834690Z"
        }
      },
      "outputs": [],
      "source": [
        "url = \"<---qdrant cloud cluster url here --->\"\n",
        "api_key = \"<---api key here--->\"\n",
        "qdrant = Qdrant.from_documents(\n",
        "    docs,\n",
        "    embeddings,\n",
        "    url,\n",
        "    prefer_grpc=True,\n",
        "    api_key=api_key,\n",
        "    collection_name=\"my_documents\",\n",
        ")"
      ]
    },
    {
      "attachments": {},
      "cell_type": "markdown",
      "id": "93540013",
      "metadata": {},
      "source": [
        "## Recreating the collection\n",
        "\n",
        "Both `Qdrant.from_texts` and `Qdrant.from_documents` methods are great to start using Qdrant with Langchain. In the previous versions the collection was recreated every time you called any of them. That behaviour has changed. Currently, the collection is going to be reused if it already exists. Setting `force_recreate` to `True` allows to remove the old collection and start from scratch."
      ]
    },
    {
      "cell_type": "code",
      "execution_count": 8,
      "id": "30a87570",
      "metadata": {
        "ExecuteTime": {
          "end_time": "2023-04-04T10:51:24.854117Z",
          "start_time": "2023-04-04T10:51:24.845385Z"
        }
      },
      "outputs": [],
      "source": [
        "url = \"<---qdrant url here --->\"\n",
        "qdrant = Qdrant.from_documents(\n",
        "    docs,\n",
        "    embeddings,\n",
        "    url,\n",
        "    prefer_grpc=True,\n",
        "    collection_name=\"my_documents\",\n",
        "    force_recreate=True,\n",
        ")"
      ]
    },
    {
      "attachments": {},
      "cell_type": "markdown",
      "id": "1f9215c8",
      "metadata": {
        "ExecuteTime": {
          "end_time": "2023-04-04T09:27:29.920258Z",
          "start_time": "2023-04-04T09:27:29.913714Z"
        }
      },
      "source": [
        "## Similarity search\n",
        "\n",
        "The simplest scenario for using Qdrant vector store is to perform a similarity search. Under the hood, our query will be encoded with the `embedding_function` and used to find similar documents in Qdrant collection."
      ]
    },
    {
      "cell_type": "code",
      "execution_count": 7,
      "id": "a8c513ab",
      "metadata": {
        "ExecuteTime": {
          "end_time": "2023-04-04T10:51:25.204469Z",
          "start_time": "2023-04-04T10:51:24.855618Z"
        },
        "tags": []
      },
      "outputs": [],
      "source": [
        "query = \"What did the president say about Ketanji Brown Jackson\"\n",
        "found_docs = qdrant.similarity_search(query)"
      ]
    },
    {
      "cell_type": "code",
      "execution_count": 8,
      "id": "fc516993",
      "metadata": {
        "ExecuteTime": {
          "end_time": "2023-04-04T10:51:25.220984Z",
          "start_time": "2023-04-04T10:51:25.213943Z"
        },
        "tags": []
      },
      "outputs": [
        {
          "name": "stdout",
          "output_type": "stream",
          "text": [
            "Tonight. I call on the Senate to: Pass the Freedom to Vote Act. Pass the John Lewis Voting Rights Act. And while you\u2019re at it, pass the Disclose Act so Americans can know who is funding our elections. \n",
            "\n",
            "Tonight, I\u2019d like to honor someone who has dedicated his life to serve this country: Justice Stephen Breyer\u2014an Army veteran, Constitutional scholar, and retiring Justice of the United States Supreme Court. Justice Breyer, thank you for your service. \n",
            "\n",
            "One of the most serious constitutional responsibilities a President has is nominating someone to serve on the United States Supreme Court. \n",
            "\n",
            "And I did that 4 days ago, when I nominated Circuit Court of Appeals Judge Ketanji Brown Jackson. One of our nation\u2019s top legal minds, who will continue Justice Breyer\u2019s legacy of excellence.\n"
          ]
        }
      ],
      "source": [
        "print(found_docs[0].page_content)"
      ]
    },
    {
      "attachments": {},
      "cell_type": "markdown",
      "id": "1bda9bf5",
      "metadata": {},
      "source": [
        "## Similarity search with score\n",
        "\n",
        "Sometimes we might want to perform the search, but also obtain a relevancy score to know how good is a particular result. \n",
        "The returned distance score is cosine distance. Therefore, a lower score is better."
      ]
    },
    {
      "cell_type": "code",
      "execution_count": 11,
      "id": "8804a21d",
      "metadata": {
        "ExecuteTime": {
          "end_time": "2023-04-04T10:51:25.631585Z",
          "start_time": "2023-04-04T10:51:25.227384Z"
        }
      },
      "outputs": [],
      "source": [
        "query = \"What did the president say about Ketanji Brown Jackson\"\n",
        "found_docs = qdrant.similarity_search_with_score(query)"
      ]
    },
    {
      "cell_type": "code",
      "execution_count": 12,
      "id": "756a6887",
      "metadata": {
        "ExecuteTime": {
          "end_time": "2023-04-04T10:51:25.642282Z",
          "start_time": "2023-04-04T10:51:25.635947Z"
        }
      },
      "outputs": [
        {
          "name": "stdout",
          "output_type": "stream",
          "text": [
            "Tonight. I call on the Senate to: Pass the Freedom to Vote Act. Pass the John Lewis Voting Rights Act. And while you\u2019re at it, pass the Disclose Act so Americans can know who is funding our elections. \n",
            "\n",
            "Tonight, I\u2019d like to honor someone who has dedicated his life to serve this country: Justice Stephen Breyer\u2014an Army veteran, Constitutional scholar, and retiring Justice of the United States Supreme Court. Justice Breyer, thank you for your service. \n",
            "\n",
            "One of the most serious constitutional responsibilities a President has is nominating someone to serve on the United States Supreme Court. \n",
            "\n",
            "And I did that 4 days ago, when I nominated Circuit Court of Appeals Judge Ketanji Brown Jackson. One of our nation\u2019s top legal minds, who will continue Justice Breyer\u2019s legacy of excellence.\n",
            "\n",
            "Score: 0.8153784913324512\n"
          ]
        }
      ],
      "source": [
        "document, score = found_docs[0]\n",
        "print(document.page_content)\n",
        "print(f\"\\nScore: {score}\")"
      ]
    },
    {
      "attachments": {},
      "cell_type": "markdown",
      "id": "525e3582",
      "metadata": {},
      "source": [
        "### Metadata filtering\n",
        "\n",
        "Qdrant has an [extensive filtering system](https://qdrant.tech/documentation/concepts/filtering/) with rich type support. It is also possible to use the filters in Langchain, by passing an additional param to both the `similarity_search_with_score` and `similarity_search` methods."
      ]
    },
    {
      "attachments": {},
      "cell_type": "markdown",
      "id": "1c2c58dc",
      "metadata": {},
      "source": [
        "```python\n",
        "from qdrant_client.http import models as rest\n",
        "\n",
        "query = \"What did the president say about Ketanji Brown Jackson\"\n",
        "found_docs = qdrant.similarity_search_with_score(query, filter=rest.Filter(...))\n",
        "```"
      ]
    },
    {
      "attachments": {},
      "cell_type": "markdown",
      "id": "c58c30bf",
      "metadata": {
        "ExecuteTime": {
          "end_time": "2023-04-04T10:39:53.032744Z",
          "start_time": "2023-04-04T10:39:53.028673Z"
        }
      },
      "source": [
        "## Maximum marginal relevance search (MMR)\n",
        "\n",
        "If you'd like to look up for some similar documents, but you'd also like to receive diverse results, MMR is method you should consider. Maximal marginal relevance optimizes for similarity to query AND diversity among selected documents."
      ]
    },
    {
      "cell_type": "code",
      "execution_count": 13,
      "id": "76810fb6",
      "metadata": {
        "ExecuteTime": {
          "end_time": "2023-04-04T10:51:26.010947Z",
          "start_time": "2023-04-04T10:51:25.647687Z"
        }
      },
      "outputs": [],
      "source": [
        "query = \"What did the president say about Ketanji Brown Jackson\"\n",
        "found_docs = qdrant.max_marginal_relevance_search(query, k=2, fetch_k=10)"
      ]
    },
    {
      "cell_type": "code",
      "execution_count": 14,
      "id": "80c6db11",
      "metadata": {
        "ExecuteTime": {
          "end_time": "2023-04-04T10:51:26.016979Z",
          "start_time": "2023-04-04T10:51:26.013329Z"
        }
      },
      "outputs": [
        {
          "name": "stdout",
          "output_type": "stream",
          "text": [
            "1. Tonight. I call on the Senate to: Pass the Freedom to Vote Act. Pass the John Lewis Voting Rights Act. And while you\u2019re at it, pass the Disclose Act so Americans can know who is funding our elections. \n",
            "\n",
            "Tonight, I\u2019d like to honor someone who has dedicated his life to serve this country: Justice Stephen Breyer\u2014an Army veteran, Constitutional scholar, and retiring Justice of the United States Supreme Court. Justice Breyer, thank you for your service. \n",
            "\n",
            "One of the most serious constitutional responsibilities a President has is nominating someone to serve on the United States Supreme Court. \n",
            "\n",
            "And I did that 4 days ago, when I nominated Circuit Court of Appeals Judge Ketanji Brown Jackson. One of our nation\u2019s top legal minds, who will continue Justice Breyer\u2019s legacy of excellence. \n",
            "\n",
            "2. We can\u2019t change how divided we\u2019ve been. But we can change how we move forward\u2014on COVID-19 and other issues we must face together. \n",
            "\n",
            "I recently visited the New York City Police Department days after the funerals of Officer Wilbert Mora and his partner, Officer Jason Rivera. \n",
            "\n",
            "They were responding to a 9-1-1 call when a man shot and killed them with a stolen gun. \n",
            "\n",
            "Officer Mora was 27 years old. \n",
            "\n",
            "Officer Rivera was 22. \n",
            "\n",
            "Both Dominican Americans who\u2019d grown up on the same streets they later chose to patrol as police officers. \n",
            "\n",
            "I spoke with their families and told them that we are forever in debt for their sacrifice, and we will carry on their mission to restore the trust and safety every community deserves. \n",
            "\n",
            "I\u2019ve worked on these issues a long time. \n",
            "\n",
            "I know what works: Investing in crime preventionand community police officers who\u2019ll walk the beat, who\u2019ll know the neighborhood, and who can restore trust and safety. \n",
            "\n"
          ]
        }
      ],
      "source": [
        "for i, doc in enumerate(found_docs):\n",
        "    print(f\"{i + 1}.\", doc.page_content, \"\\n\")"
      ]
    },
    {
      "attachments": {},
      "cell_type": "markdown",
      "id": "691a82d6",
      "metadata": {},
      "source": [
        "## Qdrant as a Retriever\n",
        "\n",
        "Qdrant, as all the other vector stores, is a LangChain Retriever, by using cosine similarity. "
      ]
    },
    {
      "cell_type": "code",
      "execution_count": 15,
      "id": "9427195f",
      "metadata": {
        "ExecuteTime": {
          "end_time": "2023-04-04T10:51:26.031451Z",
          "start_time": "2023-04-04T10:51:26.018763Z"
        }
      },
      "outputs": [
        {
          "data": {
            "text/plain": [
              "VectorStoreRetriever(vectorstore=<langchain.vectorstores.qdrant.Qdrant object at 0x7fc4e5720a00>, search_type='similarity', search_kwargs={})"
            ]
          },
          "execution_count": 15,
          "metadata": {},
          "output_type": "execute_result"
        }
      ],
      "source": [
        "retriever = qdrant.as_retriever()\n",
        "retriever"
      ]
    },
    {
      "attachments": {},
      "cell_type": "markdown",
      "id": "0c851b4f",
      "metadata": {},
      "source": [
        "It might be also specified to use MMR as a search strategy, instead of similarity."
      ]
    },
    {
      "cell_type": "code",
      "execution_count": 16,
      "id": "64348f1b",
      "metadata": {
        "ExecuteTime": {
          "end_time": "2023-04-04T10:51:26.043909Z",
          "start_time": "2023-04-04T10:51:26.034284Z"
        }
      },
      "outputs": [
        {
          "data": {
            "text/plain": [
              "VectorStoreRetriever(vectorstore=<langchain.vectorstores.qdrant.Qdrant object at 0x7fc4e5720a00>, search_type='mmr', search_kwargs={})"
            ]
          },
          "execution_count": 16,
          "metadata": {},
          "output_type": "execute_result"
        }
      ],
      "source": [
        "retriever = qdrant.as_retriever(search_type=\"mmr\")\n",
        "retriever"
      ]
    },
    {
      "cell_type": "code",
      "execution_count": 17,
      "id": "f3c70c31",
      "metadata": {
        "ExecuteTime": {
          "end_time": "2023-04-04T10:51:26.495652Z",
          "start_time": "2023-04-04T10:51:26.046407Z"
        }
      },
      "outputs": [
        {
          "data": {
            "text/plain": [
              "Document(page_content='Tonight. I call on the Senate to: Pass the Freedom to Vote Act. Pass the John Lewis Voting Rights Act. And while you\u2019re at it, pass the Disclose Act so Americans can know who is funding our elections. \\n\\nTonight, I\u2019d like to honor someone who has dedicated his life to serve this country: Justice Stephen Breyer\u2014an Army veteran, Constitutional scholar, and retiring Justice of the United States Supreme Court. Justice Breyer, thank you for your service. \\n\\nOne of the most serious constitutional responsibilities a President has is nominating someone to serve on the United States Supreme Court. \\n\\nAnd I did that 4 days ago, when I nominated Circuit Court of Appeals Judge Ketanji Brown Jackson. One of our nation\u2019s top legal minds, who will continue Justice Breyer\u2019s legacy of excellence.', metadata={'source': '../../../state_of_the_union.txt'})"
            ]
          },
          "execution_count": 17,
          "metadata": {},
          "output_type": "execute_result"
        }
      ],
      "source": [
        "query = \"What did the president say about Ketanji Brown Jackson\"\n",
        "retriever.get_relevant_documents(query)[0]"
      ]
    },
    {
      "attachments": {},
      "cell_type": "markdown",
      "id": "0358ecde",
      "metadata": {},
      "source": [
        "## Customizing Qdrant\n",
        "\n",
        "There are some options to use an existing Qdrant collection within your Langchain application. In such cases you may need to define how to map Qdrant point into the Langchain `Document`.\n",
        "\n",
        "### Named vectors\n",
        "\n",
        "Qdrant supports [multiple vectors per point](https://qdrant.tech/documentation/concepts/collections/#collection-with-multiple-vectors) by named vectors. Langchain requires just a single embedding per document and, by default, uses a single vector. However, if you work with a collection created externally or want to have the named vector used, you can configure it by providing its name.\n"
      ]
    },
    {
      "cell_type": "code",
      "execution_count": null,
      "outputs": [],
      "source": [
        "Qdrant.from_documents(\n",
        "    docs,\n",
        "    embeddings,\n",
        "    location=\":memory:\",\n",
        "    collection_name=\"my_documents_2\",\n",
        "    vector_name=\"custom_vector\",\n",
        ")"
      ],
      "metadata": {
        "collapsed": false
      },
      "id": "1f11adf8"
    },
    {
      "cell_type": "markdown",
      "source": [
        "As a Langchain user, you won't see any difference whether you use named vectors or not. Qdrant integration will handle the conversion under the hood."
      ],
      "metadata": {
        "collapsed": false
      },
      "id": "b34f5230"
    },
    {
      "cell_type": "markdown",
      "source": [
        "### Metadata\n",
        "\n",
        "Qdrant stores your vector embeddings along with the optional JSON-like payload. Payloads are optional, but since LangChain assumes the embeddings are generated from the documents, we keep the context data, so you can extract the original texts as well.\n",
        "\n",
        "By default, your document is going to be stored in the following payload structure:\n",
        "\n",
        "```json\n",
        "{\n",
        "    \"page_content\": \"Lorem ipsum dolor sit amet\",\n",
        "    \"metadata\": {\n",
        "        \"foo\": \"bar\"\n",
        "    }\n",
        "}\n",
        "```\n",
        "\n",
        "You can, however, decide to use different keys for the page content and metadata. That's useful if you already have a collection that you'd like to reuse."
      ],
      "metadata": {
        "collapsed": false
      },
      "id": "b2350093"
    },
    {
      "cell_type": "code",
      "execution_count": 19,
      "id": "e4d6baf9",
      "metadata": {
        "ExecuteTime": {
          "end_time": "2023-04-04T11:08:31.739141Z",
          "start_time": "2023-04-04T11:08:30.229748Z"
        }
      },
      "outputs": [
        {
          "data": {
            "text/plain": [
              "<langchain.vectorstores.qdrant.Qdrant at 0x7fc4e2baa230>"
            ]
          },
          "execution_count": 19,
          "metadata": {},
          "output_type": "execute_result"
        }
      ],
      "source": [
        "Qdrant.from_documents(\n",
        "    docs,\n",
        "    embeddings,\n",
        "    location=\":memory:\",\n",
        "    collection_name=\"my_documents_2\",\n",
        "    content_payload_key=\"my_page_content_key\",\n",
        "    metadata_payload_key=\"my_meta\",\n",
        ")"
      ]
    },
    {
      "cell_type": "code",
      "execution_count": null,
      "id": "2300e785",
      "metadata": {},
      "outputs": [],
      "source": []
    }
  ],
  "metadata": {
    "kernelspec": {
      "display_name": "Python 3 (ipykernel)",
      "language": "python",
      "name": "python3"
    },
    "language_info": {
      "codemirror_mode": {
        "name": "ipython",
        "version": 3
      },
      "file_extension": ".py",
      "mimetype": "text/x-python",
      "name": "python",
      "nbconvert_exporter": "python",
      "pygments_lexer": "ipython3",
      "version": "3.11.3"
    }
  },
  "nbformat": 4,
  "nbformat_minor": 5
}