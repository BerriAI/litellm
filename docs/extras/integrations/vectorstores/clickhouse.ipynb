{
 "cells": [
  {
   "cell_type": "markdown",
   "id": "683953b3",
   "metadata": {},
   "source": [
    "# ClickHouse Vector Search\n",
    "\n",
    "> [ClickHouse](https://clickhouse.com/) is the fastest and most resource efficient open-source database for real-time apps and analytics with full SQL support and a wide range of functions to assist users in writing analytical queries. Lately added data structures and distance search functions (like `L2Distance`) as well as [approximate nearest neighbor search indexes](https://clickhouse.com/docs/en/engines/table-engines/mergetree-family/annindexes) enable ClickHouse to be used as a high performance and scalable vector database to store and search vectors with SQL.\n",
    "\n",
    "This notebook shows how to use functionality related to the `ClickHouse` vector search."
   ]
  },
  {
   "cell_type": "markdown",
   "id": "43ead5d5-2c1f-4dce-a69a-cb00e4f9d6f0",
   "metadata": {},
   "source": [
    "## Setting up envrionments"
   ]
  },
  {
   "cell_type": "markdown",
   "id": "b2c434bc",
   "metadata": {},
   "source": [
    "Setting up local clickhouse server with docker (optional)"
   ]
  },
  {
   "cell_type": "code",
   "execution_count": null,
   "id": "249a7751",
   "metadata": {
    "ExecuteTime": {
     "end_time": "2023-06-03T08:43:43.035606Z",
     "start_time": "2023-06-03T08:43:42.618531Z"
    }
   },
   "outputs": [],
   "source": [
    "! docker run -d -p 8123:8123 -p9000:9000 --name langchain-clickhouse-server --ulimit nofile=262144:262144 clickhouse/clickhouse-server:23.4.2.11"
   ]
  },
  {
   "cell_type": "markdown",
   "id": "7bd3c1c0",
   "metadata": {},
   "source": [
    "Setup up clickhouse client driver"
   ]
  },
  {
   "cell_type": "code",
   "execution_count": null,
   "id": "9d614bf8",
   "metadata": {},
   "outputs": [],
   "source": [
    "!pip install clickhouse-connect"
   ]
  },
  {
   "cell_type": "markdown",
   "id": "15a1d477-9cdb-4d82-b019-96951ecb2b72",
   "metadata": {},
   "source": [
    "We want to use OpenAIEmbeddings so we have to get the OpenAI API Key."
   ]
  },
  {
   "cell_type": "code",
   "execution_count": 1,
   "id": "91003ea5-0c8c-436c-a5de-aaeaeef2f458",
   "metadata": {
    "ExecuteTime": {
     "end_time": "2023-06-03T08:49:35.383673Z",
     "start_time": "2023-06-03T08:49:33.984547Z"
    }
   },
   "outputs": [],
   "source": [
    "import os\n",
    "import getpass\n",
    "\n",
    "if not os.environ[\"OPENAI_API_KEY\"]:\n",
    "    os.environ[\"OPENAI_API_KEY\"] = getpass.getpass(\"OpenAI API Key:\")"
   ]
  },
  {
   "cell_type": "code",
   "execution_count": 2,
   "id": "aac9563e",
   "metadata": {
    "ExecuteTime": {
     "end_time": "2023-06-03T08:33:31.554934Z",
     "start_time": "2023-06-03T08:33:31.549590Z"
    },
    "tags": []
   },
   "outputs": [],
   "source": [
    "from langchain.embeddings.openai import OpenAIEmbeddings\n",
    "from langchain.text_splitter import CharacterTextSplitter\n",
    "from langchain.vectorstores import Clickhouse, ClickhouseSettings"
   ]
  },
  {
   "cell_type": "code",
   "execution_count": 3,
   "id": "a3c3999a",
   "metadata": {
    "ExecuteTime": {
     "end_time": "2023-06-03T08:33:32.527387Z",
     "start_time": "2023-06-03T08:33:32.501312Z"
    },
    "tags": []
   },
   "outputs": [],
   "source": [
    "from langchain.document_loaders import TextLoader\n",
    "\n",
    "loader = TextLoader(\"../../../state_of_the_union.txt\")\n",
    "documents = loader.load()\n",
    "text_splitter = CharacterTextSplitter(chunk_size=1000, chunk_overlap=0)\n",
    "docs = text_splitter.split_documents(documents)\n",
    "\n",
    "embeddings = OpenAIEmbeddings()"
   ]
  },
  {
   "cell_type": "code",
   "execution_count": 4,
   "id": "6e104aee",
   "metadata": {
    "ExecuteTime": {
     "end_time": "2023-06-03T08:33:35.503823Z",
     "start_time": "2023-06-03T08:33:33.745832Z"
    }
   },
   "outputs": [
    {
     "name": "stderr",
     "output_type": "stream",
     "text": [
      "Inserting data...: 100%|██████████| 42/42 [00:00<00:00, 2801.49it/s]\n"
     ]
    }
   ],
   "source": [
    "for d in docs:\n",
    "    d.metadata = {\"some\": \"metadata\"}\n",
    "settings = ClickhouseSettings(table=\"clickhouse_vector_search_example\")\n",
    "docsearch = Clickhouse.from_documents(docs, embeddings, config=settings)\n",
    "\n",
    "query = \"What did the president say about Ketanji Brown Jackson\"\n",
    "docs = docsearch.similarity_search(query)"
   ]
  },
  {
   "cell_type": "code",
   "execution_count": 5,
   "id": "9c608226",
   "metadata": {},
   "outputs": [
    {
     "name": "stdout",
     "output_type": "stream",
     "text": [
      "Tonight. I call on the Senate to: Pass the Freedom to Vote Act. Pass the John Lewis Voting Rights Act. And while you’re at it, pass the Disclose Act so Americans can know who is funding our elections. \n",
      "\n",
      "Tonight, I’d like to honor someone who has dedicated his life to serve this country: Justice Stephen Breyer—an Army veteran, Constitutional scholar, and retiring Justice of the United States Supreme Court. Justice Breyer, thank you for your service. \n",
      "\n",
      "One of the most serious constitutional responsibilities a President has is nominating someone to serve on the United States Supreme Court. \n",
      "\n",
      "And I did that 4 days ago, when I nominated Circuit Court of Appeals Judge Ketanji Brown Jackson. One of our nation’s top legal minds, who will continue Justice Breyer’s legacy of excellence.\n"
     ]
    }
   ],
   "source": [
    "print(docs[0].page_content)"
   ]
  },
  {
   "cell_type": "markdown",
   "id": "e3a8b105",
   "metadata": {},
   "source": [
    "## Get connection info and data schema"
   ]
  },
  {
   "cell_type": "code",
   "execution_count": 6,
   "id": "69996818",
   "metadata": {
    "ExecuteTime": {
     "end_time": "2023-06-03T08:28:58.252991Z",
     "start_time": "2023-06-03T08:28:58.197560Z"
    },
    "scrolled": false
   },
   "outputs": [
    {
     "name": "stdout",
     "output_type": "stream",
     "text": [
      "\u001b[92m\u001b[1mdefault.clickhouse_vector_search_example @ localhost:8123\u001b[0m\n",
      "\n",
      "\u001b[1musername: None\u001b[0m\n",
      "\n",
      "Table Schema:\n",
      "---------------------------------------------------\n",
      "|\u001b[94mid                      \u001b[0m|\u001b[96mNullable(String)        \u001b[0m|\n",
      "|\u001b[94mdocument                \u001b[0m|\u001b[96mNullable(String)        \u001b[0m|\n",
      "|\u001b[94membedding               \u001b[0m|\u001b[96mArray(Float32)          \u001b[0m|\n",
      "|\u001b[94mmetadata                \u001b[0m|\u001b[96mObject('json')          \u001b[0m|\n",
      "|\u001b[94muuid                    \u001b[0m|\u001b[96mUUID                    \u001b[0m|\n",
      "---------------------------------------------------\n",
      "\n"
     ]
    }
   ],
   "source": [
    "print(str(docsearch))"
   ]
  },
  {
   "cell_type": "markdown",
   "id": "324ac147",
   "metadata": {},
   "source": [
    "### Clickhouse table schema"
   ]
  },
  {
   "cell_type": "markdown",
   "id": "b5bd7c5b",
   "metadata": {},
   "source": [
    "> Clickhouse table will be automatically created if not exist by default. Advanced users could pre-create the table with optimized settings. For distributed Clickhouse cluster with sharding, table engine should be configured as `Distributed`."
   ]
  },
  {
   "cell_type": "code",
   "execution_count": 8,
   "id": "54f4f561",
   "metadata": {
    "scrolled": false
   },
   "outputs": [
    {
     "name": "stdout",
     "output_type": "stream",
     "text": [
      "Clickhouse Table DDL:\n",
      "\n",
      "CREATE TABLE IF NOT EXISTS default.clickhouse_vector_search_example(\n",
      "    id Nullable(String),\n",
      "    document Nullable(String),\n",
      "    embedding Array(Float32),\n",
      "    metadata JSON,\n",
      "    uuid UUID DEFAULT generateUUIDv4(),\n",
      "    CONSTRAINT cons_vec_len CHECK length(embedding) = 1536,\n",
      "    INDEX vec_idx embedding TYPE annoy(100,'L2Distance') GRANULARITY 1000\n",
      ") ENGINE = MergeTree ORDER BY uuid SETTINGS index_granularity = 8192\n"
     ]
    }
   ],
   "source": [
    "print(f\"Clickhouse Table DDL:\\n\\n{docsearch.schema}\")"
   ]
  },
  {
   "cell_type": "markdown",
   "id": "f59360c0",
   "metadata": {},
   "source": [
    "## Filtering\n",
    "\n",
    "You can have direct access to ClickHouse SQL where statement. You can write `WHERE` clause following standard SQL.\n",
    "\n",
    "**NOTE**: Please be aware of SQL injection, this interface must not be directly called by end-user.\n",
    "\n",
    "If you custimized your `column_map` under your setting, you search with filter like this:"
   ]
  },
  {
   "cell_type": "code",
   "execution_count": 9,
   "id": "232055f6",
   "metadata": {
    "ExecuteTime": {
     "end_time": "2023-06-03T08:29:36.680805Z",
     "start_time": "2023-06-03T08:29:34.963676Z"
    }
   },
   "outputs": [
    {
     "name": "stderr",
     "output_type": "stream",
     "text": [
      "Inserting data...: 100%|██████████| 42/42 [00:00<00:00, 6939.56it/s]\n"
     ]
    }
   ],
   "source": [
    "from langchain.vectorstores import Clickhouse, ClickhouseSettings\n",
    "from langchain.document_loaders import TextLoader\n",
    "\n",
    "loader = TextLoader(\"../../../state_of_the_union.txt\")\n",
    "documents = loader.load()\n",
    "text_splitter = CharacterTextSplitter(chunk_size=1000, chunk_overlap=0)\n",
    "docs = text_splitter.split_documents(documents)\n",
    "\n",
    "embeddings = OpenAIEmbeddings()\n",
    "\n",
    "for i, d in enumerate(docs):\n",
    "    d.metadata = {\"doc_id\": i}\n",
    "\n",
    "docsearch = Clickhouse.from_documents(docs, embeddings)"
   ]
  },
  {
   "cell_type": "code",
   "execution_count": 10,
   "id": "ddbcee77",
   "metadata": {
    "ExecuteTime": {
     "end_time": "2023-06-03T08:29:43.487436Z",
     "start_time": "2023-06-03T08:29:43.040831Z"
    }
   },
   "outputs": [
    {
     "name": "stdout",
     "output_type": "stream",
     "text": [
      "0.6779101415357189 {'doc_id': 0} Madam Speaker, Madam...\n",
      "0.6997970363474885 {'doc_id': 8} And so many families...\n",
      "0.7044504914336727 {'doc_id': 1} Groups of citizens b...\n",
      "0.7053558702165094 {'doc_id': 6} And I’m taking robus...\n"
     ]
    }
   ],
   "source": [
    "meta = docsearch.metadata_column\n",
    "output = docsearch.similarity_search_with_relevance_scores(\n",
    "    \"What did the president say about Ketanji Brown Jackson?\",\n",
    "    k=4,\n",
    "    where_str=f\"{meta}.doc_id<10\",\n",
    ")\n",
    "for d, dist in output:\n",
    "    print(dist, d.metadata, d.page_content[:20] + \"...\")"
   ]
  },
  {
   "cell_type": "markdown",
   "id": "a359ed74",
   "metadata": {},
   "source": [
    "## Deleting your data"
   ]
  },
  {
   "cell_type": "code",
   "execution_count": 11,
   "id": "fb6a9d36",
   "metadata": {
    "ExecuteTime": {
     "end_time": "2023-06-03T08:30:24.822384Z",
     "start_time": "2023-06-03T08:30:24.798571Z"
    }
   },
   "outputs": [],
   "source": [
    "docsearch.drop()"
   ]
  }
 ],
 "metadata": {
  "kernelspec": {
   "display_name": "Python 3 (ipykernel)",
   "language": "python",
   "name": "python3"
  },
  "language_info": {
   "codemirror_mode": {
    "name": "ipython",
    "version": 3
   },
   "file_extension": ".py",
   "mimetype": "text/x-python",
   "name": "python",
   "nbconvert_exporter": "python",
   "pygments_lexer": "ipython3",
   "version": "3.11.2"
  }
 },
 "nbformat": 4,
 "nbformat_minor": 5
}
