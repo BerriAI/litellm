{
 "cells": [
  {
   "cell_type": "markdown",
   "id": "acb64858",
   "metadata": {},
   "source": [
    "# YouTubeSearchTool\n",
    "\n",
    "This notebook shows how to use a tool to search YouTube\n",
    "\n",
    "Adapted from [https://github.com/venuv/langchain_yt_tools](https://github.com/venuv/langchain_yt_tools)"
   ]
  },
  {
   "cell_type": "code",
   "execution_count": 5,
   "id": "9bb15d4a",
   "metadata": {},
   "outputs": [],
   "source": [
    "#! pip install youtube_search"
   ]
  },
  {
   "cell_type": "code",
   "execution_count": 1,
   "id": "cc1c83e2",
   "metadata": {},
   "outputs": [],
   "source": [
    "from langchain.tools import YouTubeSearchTool"
   ]
  },
  {
   "cell_type": "code",
   "execution_count": 2,
   "id": "becb262b",
   "metadata": {},
   "outputs": [],
   "source": [
    "tool = YouTubeSearchTool()"
   ]
  },
  {
   "cell_type": "code",
   "execution_count": 6,
   "id": "6bbc4211",
   "metadata": {},
   "outputs": [
    {
     "data": {
      "text/plain": [
       "\"['/watch?v=VcVfceTsD0A&pp=ygUMbGV4IGZyaWVkbWFu', '/watch?v=gPfriiHBBek&pp=ygUMbGV4IGZyaWVkbWFu']\""
      ]
     },
     "execution_count": 6,
     "metadata": {},
     "output_type": "execute_result"
    }
   ],
   "source": [
    "tool.run(\"lex friedman\")"
   ]
  },
  {
   "cell_type": "markdown",
   "id": "7f772147",
   "metadata": {},
   "source": [
    "You can also specify the number of results that are returned"
   ]
  },
  {
   "cell_type": "code",
   "execution_count": 7,
   "id": "682fdb33",
   "metadata": {},
   "outputs": [
    {
     "data": {
      "text/plain": [
       "\"['/watch?v=VcVfceTsD0A&pp=ygUMbGV4IGZyaWVkbWFu', '/watch?v=YVJ8gTnDC4Y&pp=ygUMbGV4IGZyaWVkbWFu', '/watch?v=Udh22kuLebg&pp=ygUMbGV4IGZyaWVkbWFu', '/watch?v=gPfriiHBBek&pp=ygUMbGV4IGZyaWVkbWFu', '/watch?v=L_Guz73e6fw&pp=ygUMbGV4IGZyaWVkbWFu']\""
      ]
     },
     "execution_count": 7,
     "metadata": {},
     "output_type": "execute_result"
    }
   ],
   "source": [
    "tool.run(\"lex friedman,5\")"
   ]
  },
  {
   "cell_type": "code",
   "execution_count": null,
   "id": "bb5e1659",
   "metadata": {},
   "outputs": [],
   "source": []
  }
 ],
 "metadata": {
  "kernelspec": {
   "display_name": "Python 3 (ipykernel)",
   "language": "python",
   "name": "python3"
  },
  "language_info": {
   "codemirror_mode": {
    "name": "ipython",
    "version": 3
   },
   "file_extension": ".py",
   "mimetype": "text/x-python",
   "name": "python",
   "nbconvert_exporter": "python",
   "pygments_lexer": "ipython3",
   "version": "3.9.1"
  }
 },
 "nbformat": 4,
 "nbformat_minor": 5
}
