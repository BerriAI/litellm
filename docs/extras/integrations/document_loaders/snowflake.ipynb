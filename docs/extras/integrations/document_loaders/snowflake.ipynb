{
 "cells": [
  {
   "cell_type": "markdown",
   "metadata": {},
   "source": [
    "# Snowflake\n",
    "\n",
    "This notebooks goes over how to load documents from Snowflake"
   ]
  },
  {
   "cell_type": "code",
   "execution_count": null,
   "metadata": {},
   "outputs": [],
   "source": [
    "! pip install snowflake-connector-python"
   ]
  },
  {
   "cell_type": "code",
   "execution_count": 3,
   "metadata": {},
   "outputs": [],
   "source": [
    "import settings as s\n",
    "from langchain.document_loaders import SnowflakeLoader"
   ]
  },
  {
   "cell_type": "code",
   "execution_count": null,
   "metadata": {},
   "outputs": [],
   "source": [
    "QUERY = \"select text, survey_id from CLOUD_DATA_SOLUTIONS.HAPPY_OR_NOT.OPEN_FEEDBACK limit 10\"\n",
    "snowflake_loader = SnowflakeLoader(\n",
    "    query=QUERY,\n",
    "    user=s.SNOWFLAKE_USER,\n",
    "    password=s.SNOWFLAKE_PASS,\n",
    "    account=s.SNOWFLAKE_ACCOUNT,\n",
    "    warehouse=s.SNOWFLAKE_WAREHOUSE,\n",
    "    role=s.SNOWFLAKE_ROLE,\n",
    "    database=s.SNOWFLAKE_DATABASE,\n",
    "    schema=s.SNOWFLAKE_SCHEMA,\n",
    ")\n",
    "snowflake_documents = snowflake_loader.load()\n",
    "print(snowflake_documents)"
   ]
  },
  {
   "cell_type": "code",
   "execution_count": null,
   "metadata": {},
   "outputs": [],
   "source": [
    "from snowflakeLoader import SnowflakeLoader\n",
    "import settings as s\n",
    "\n",
    "QUERY = \"select text, survey_id as source from CLOUD_DATA_SOLUTIONS.HAPPY_OR_NOT.OPEN_FEEDBACK limit 10\"\n",
    "snowflake_loader = SnowflakeLoader(\n",
    "    query=QUERY,\n",
    "    user=s.SNOWFLAKE_USER,\n",
    "    password=s.SNOWFLAKE_PASS,\n",
    "    account=s.SNOWFLAKE_ACCOUNT,\n",
    "    warehouse=s.SNOWFLAKE_WAREHOUSE,\n",
    "    role=s.SNOWFLAKE_ROLE,\n",
    "    database=s.SNOWFLAKE_DATABASE,\n",
    "    schema=s.SNOWFLAKE_SCHEMA,\n",
    "    metadata_columns=[\"source\"],\n",
    ")\n",
    "snowflake_documents = snowflake_loader.load()\n",
    "print(snowflake_documents)"
   ]
  }
 ],
 "metadata": {
  "kernelspec": {
   "display_name": "Python 3 (ipykernel)",
   "language": "python",
   "name": "python3"
  },
  "language_info": {
   "codemirror_mode": {
    "name": "ipython",
    "version": 3
   },
   "file_extension": ".py",
   "mimetype": "text/x-python",
   "name": "python",
   "nbconvert_exporter": "python",
   "pygments_lexer": "ipython3",
   "version": "3.9.1"
  }
 },
 "nbformat": 4,
 "nbformat_minor": 2
}
