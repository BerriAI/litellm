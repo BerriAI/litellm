{
 "cells": [
  {
   "cell_type": "markdown",
   "id": "4babfba5",
   "metadata": {},
   "source": [
    "# College Confidential\n",
    "\n",
    ">[College Confidential](https://www.collegeconfidential.com/) gives information on 3,800+ colleges and universities.\n",
    "\n",
    "This covers how to load `College Confidential` webpages into a document format that we can use downstream."
   ]
  },
  {
   "cell_type": "code",
   "execution_count": 1,
   "id": "ff49b177",
   "metadata": {},
   "outputs": [],
   "source": [
    "from langchain.document_loaders import CollegeConfidentialLoader"
   ]
  },
  {
   "cell_type": "code",
   "execution_count": 2,
   "id": "849a8d52",
   "metadata": {},
   "outputs": [],
   "source": [
    "loader = CollegeConfidentialLoader(\n",
    "    \"https://www.collegeconfidential.com/colleges/brown-university/\"\n",
    ")"
   ]
  },
  {
   "cell_type": "code",
   "execution_count": 3,
   "id": "c2826836",
   "metadata": {},
   "outputs": [],
   "source": [
    "data = loader.load()"
   ]
  },
  {
   "cell_type": "code",
   "execution_count": 4,
   "id": "fefa2adc",
   "metadata": {},
   "outputs": [
    {
     "data": {
      "text/plain": [
       "[Document(page_content='\\n\\n\\n\\n\\n\\n\\n\\nA68FEB02-9D19-447C-B8BC-818149FD6EAF\\n\\n\\n\\n\\n\\n\\n\\n\\n\\n\\n\\n\\n\\n\\n\\n\\n\\n\\n\\n\\n                    Media (2)\\n                \\n\\n\\n\\n\\n\\n\\n\\n\\n\\n\\n\\n\\n\\n\\n\\n\\n\\nE45B8B13-33D4-450E-B7DB-F66EFE8F2097\\n\\n\\n\\n\\n\\n\\n\\n\\n\\nE45B8B13-33D4-450E-B7DB-F66EFE8F2097\\n\\n\\n\\n\\n\\n\\n\\n\\n\\n\\n\\n\\n\\n\\n\\nAbout Brown\\n\\n\\n\\n\\n\\n\\nBrown University Overview\\nBrown University is a private, nonprofit school in the urban setting of Providence, Rhode Island. Brown was founded in 1764 and the school currently enrolls around 10,696 students a year, including 7,349 undergraduates. Brown provides on-campus housing for students. Most students live in off campus housing.\\n📆 Mark your calendar! January 5, 2023 is the final deadline to submit an application for the Fall 2023 semester. \\nThere are many ways for students to get involved at Brown! \\nLove music or performing? Join a campus band, sing in a chorus, or perform with one of the school\\'s theater groups.\\nInterested in journalism or communications? Brown students can write for the campus newspaper, host a radio show or be a producer for the student-run television channel.\\nInterested in joining a fraternity or sorority? Brown has fraternities and sororities.\\nPlanning to play sports? Brown has many options for athletes. See them all and learn more about life at Brown on the Student Life page.\\n\\n\\n\\n2022 Brown Facts At-A-Glance\\n\\n\\n\\n\\n\\nAcademic Calendar\\nOther\\n\\n\\nOverall Acceptance Rate\\n6%\\n\\n\\nEarly Decision Acceptance Rate\\n16%\\n\\n\\nEarly Action Acceptance Rate\\nEA not offered\\n\\n\\nApplicants Submitting SAT scores\\n51%\\n\\n\\nTuition\\n$62,680\\n\\n\\nPercent of Need Met\\n100%\\n\\n\\nAverage First-Year Financial Aid Package\\n$59,749\\n\\n\\n\\n\\nIs Brown a Good School?\\n\\nDifferent people have different ideas about what makes a \"good\" school. Some factors that can help you determine what a good school for you might be include admissions criteria, acceptance rate, tuition costs, and more.\\nLet\\'s take a look at these factors to get a clearer sense of what Brown offers and if it could be the right college for you.\\nBrown Acceptance Rate 2022\\nIt is extremely difficult to get into Brown. Around 6% of applicants get into Brown each year. In 2022, just 2,568 out of the 46,568 students who applied were accepted.\\nRetention and Graduation Rates at Brown\\nRetention refers to the number of students that stay enrolled at a school over time. This is a way to get a sense of how satisfied students are with their school experience, and if they have the support necessary to succeed in college. \\nApproximately 98% of first-year, full-time undergrads who start at Browncome back their sophomore year. 95% of Brown undergrads graduate within six years. The average six-year graduation rate for U.S. colleges and universities is 61% for public schools, and 67% for private, non-profit schools.\\nJob Outcomes for Brown Grads\\nJob placement stats are a good resource for understanding the value of a degree from Brown by providing a look on how job placement has gone for other grads. \\nCheck with Brown directly, for information on any information on starting salaries for recent grads.\\nBrown\\'s Endowment\\nAn endowment is the total value of a school\\'s investments, donations, and assets. Endowment is not necessarily an indicator of the quality of a school, but it can give you a sense of how much money a college can afford to invest in expanding programs, improving facilities, and support students. \\nAs of 2022, the total market value of Brown University\\'s endowment was $4.7 billion. The average college endowment was $905 million in 2021. The school spends $34,086 for each full-time student enrolled. \\nTuition and Financial Aid at Brown\\nTuition is another important factor when choose a college. Some colleges may have high tuition, but do a better job at meeting students\\' financial need.\\nBrown meets 100% of the demonstrated financial need for undergraduates.  The average financial aid package for a full-time, first-year student is around $59,749 a year. \\nThe average student debt for graduates in the class of 2022 was around $24,102 per student, not including those with no debt. For context, compare this number with the average national debt, which is around $36,000 per borrower. \\nThe 2023-2024 FAFSA Opened on October 1st, 2022\\nSome financial aid is awarded on a first-come, first-served basis, so fill out the FAFSA as soon as you can. Visit the FAFSA website to apply for student aid. Remember, the first F in FAFSA stands for FREE! You should never have to pay to submit the Free Application for Federal Student Aid (FAFSA), so be very wary of anyone asking you for money.\\nLearn more about Tuition and Financial Aid at Brown.\\nBased on this information, does Brown seem like a good fit? Remember, a school that is perfect for one person may be a terrible fit for someone else! So ask yourself: Is Brown a good school for you?\\nIf Brown University seems like a school you want to apply to, click the heart button to save it to your college list.\\n\\nStill Exploring Schools?\\nChoose one of the options below to learn more about Brown:\\nAdmissions\\nStudent Life\\nAcademics\\nTuition & Aid\\nBrown Community Forums\\nThen use the college admissions predictor to take a data science look at your chances  of getting into some of the best colleges and universities in the U.S.\\nWhere is Brown?\\nBrown is located in the urban setting of Providence, Rhode Island, less than an hour from Boston. \\nIf you would like to see Brown for yourself, plan a visit. The best way to reach campus is to take Interstate 95 to Providence, or book a flight to the nearest airport, T.F. Green.\\nYou can also take a virtual campus tour to get a sense of what Brown and Providence are like without leaving home.\\nConsidering Going to School in Rhode Island?\\nSee a full list of colleges in Rhode Island and save your favorites to your college list.\\n\\n\\n\\nCollege Info\\n\\n\\n\\n\\n\\n\\n\\n\\n\\n                    Providence, RI 02912\\n                \\n\\n\\n\\n                    Campus Setting: Urban\\n                \\n\\n\\n\\n\\n\\n\\n\\n                        (401) 863-2378\\n                    \\n\\n                            Website\\n                        \\n\\n                        Virtual Tour\\n                        \\n\\n\\n\\n\\n\\n\\n\\n\\n\\n\\n\\n\\n\\n\\n\\nBrown Application Deadline\\n\\n\\n\\nFirst-Year Applications are Due\\n\\nJan 5\\n\\nTransfer Applications are Due\\n\\nMar 1\\n\\n\\n\\n            \\n                The deadline for Fall first-year applications to Brown is \\n                Jan 5. \\n                \\n            \\n          \\n\\n            \\n                The deadline for Fall transfer applications to Brown is \\n                Mar 1. \\n                \\n            \\n          \\n\\n            \\n            Check the school website \\n            for more information about deadlines for specific programs or special admissions programs\\n            \\n          \\n\\n\\n\\n\\n\\n\\nBrown ACT Scores\\n\\n\\n\\n\\nic_reflect\\n\\n\\n\\n\\n\\n\\n\\n\\nACT Range\\n\\n\\n                  \\n                    33 - 35\\n                  \\n                \\n\\n\\n\\nEstimated Chance of Acceptance by ACT Score\\n\\n\\nACT Score\\nEstimated Chance\\n\\n\\n35 and Above\\nGood\\n\\n\\n33 to 35\\nAvg\\n\\n\\n33 and Less\\nLow\\n\\n\\n\\n\\n\\n\\nStand out on your college application\\n\\n• Qualify for scholarships\\n• Most students who retest improve their score\\n\\nSponsored by ACT\\n\\n\\n            Take the Next ACT Test\\n        \\n\\n\\n\\n\\n\\nBrown SAT Scores\\n\\n\\n\\n\\nic_reflect\\n\\n\\n\\n\\n\\n\\n\\n\\nComposite SAT Range\\n\\n\\n                    \\n                        720 - 770\\n                    \\n                \\n\\n\\n\\nic_reflect\\n\\n\\n\\n\\n\\n\\n\\n\\nMath SAT Range\\n\\n\\n                    \\n                        Not available\\n                    \\n                \\n\\n\\n\\nic_reflect\\n\\n\\n\\n\\n\\n\\n\\n\\nReading SAT Range\\n\\n\\n                    \\n                        740 - 800\\n                    \\n                \\n\\n\\n\\n\\n\\n\\n        Brown Tuition & Fees\\n    \\n\\n\\n\\nTuition & Fees\\n\\n\\n\\n                        $82,286\\n                    \\nIn State\\n\\n\\n\\n\\n                        $82,286\\n                    \\nOut-of-State\\n\\n\\n\\n\\n\\n\\n\\nCost Breakdown\\n\\n\\nIn State\\n\\n\\nOut-of-State\\n\\n\\n\\n\\nState Tuition\\n\\n\\n\\n                            $62,680\\n                        \\n\\n\\n\\n                            $62,680\\n                        \\n\\n\\n\\n\\nFees\\n\\n\\n\\n                            $2,466\\n                        \\n\\n\\n\\n                            $2,466\\n                        \\n\\n\\n\\n\\nHousing\\n\\n\\n\\n                            $15,840\\n                        \\n\\n\\n\\n                            $15,840\\n                        \\n\\n\\n\\n\\nBooks\\n\\n\\n\\n                            $1,300\\n                        \\n\\n\\n\\n                            $1,300\\n                        \\n\\n\\n\\n\\n\\n                            Total (Before Financial Aid):\\n                        \\n\\n\\n\\n                            $82,286\\n                        \\n\\n\\n\\n                            $82,286\\n                        \\n\\n\\n\\n\\n\\n\\n\\n\\n\\n\\n\\nStudent Life\\n\\n        Wondering what life at Brown is like? There are approximately \\n        10,696 students enrolled at \\n        Brown, \\n        including 7,349 undergraduate students and \\n        3,347  graduate students.\\n        96% percent of students attend school \\n        full-time, \\n        6% percent are from RI and \\n            94% percent of students are from other states.\\n    \\n\\n\\n\\n\\n\\n                        None\\n                    \\n\\n\\n\\n\\nUndergraduate Enrollment\\n\\n\\n\\n                        96%\\n                    \\nFull Time\\n\\n\\n\\n\\n                        4%\\n                    \\nPart Time\\n\\n\\n\\n\\n\\n\\n\\n                        94%\\n                    \\n\\n\\n\\n\\nResidency\\n\\n\\n\\n                        6%\\n                    \\nIn State\\n\\n\\n\\n\\n                        94%\\n                    \\nOut-of-State\\n\\n\\n\\n\\n\\n\\n\\n                Data Source: IPEDs and Peterson\\'s Databases © 2022 Peterson\\'s LLC All rights reserved\\n            \\n', lookup_str='', metadata={'source': 'https://www.collegeconfidential.com/colleges/brown-university/'}, lookup_index=0)]"
      ]
     },
     "execution_count": 4,
     "metadata": {},
     "output_type": "execute_result"
    }
   ],
   "source": [
    "data"
   ]
  },
  {
   "cell_type": "code",
   "execution_count": null,
   "id": "938ff4ee",
   "metadata": {},
   "outputs": [],
   "source": []
  }
 ],
 "metadata": {
  "kernelspec": {
   "display_name": "Python 3 (ipykernel)",
   "language": "python",
   "name": "python3"
  },
  "language_info": {
   "codemirror_mode": {
    "name": "ipython",
    "version": 3
   },
   "file_extension": ".py",
   "mimetype": "text/x-python",
   "name": "python",
   "nbconvert_exporter": "python",
   "pygments_lexer": "ipython3",
   "version": "3.10.6"
  }
 },
 "nbformat": 4,
 "nbformat_minor": 5
}
