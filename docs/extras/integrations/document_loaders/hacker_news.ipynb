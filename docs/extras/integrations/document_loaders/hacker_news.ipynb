{
 "cells": [
  {
   "cell_type": "markdown",
   "id": "4babfba5",
   "metadata": {},
   "source": [
    "# Hacker News\n",
    "\n",
    ">[Hacker News](https://en.wikipedia.org/wiki/Hacker_News) (sometimes abbreviated as `HN`) is a social news website focusing on computer science and entrepreneurship. It is run by the investment fund and startup incubator `Y Combinator`. In general, content that can be submitted is defined as \"anything that gratifies one's intellectual curiosity.\"\n",
    "\n",
    "This notebook covers how to pull page data and comments from [Hacker News](https://news.ycombinator.com/)"
   ]
  },
  {
   "cell_type": "code",
   "execution_count": 1,
   "id": "ff49b177",
   "metadata": {
    "tags": []
   },
   "outputs": [],
   "source": [
    "from langchain.document_loaders import HNLoader"
   ]
  },
  {
   "cell_type": "code",
   "execution_count": 2,
   "id": "849a8d52",
   "metadata": {
    "tags": []
   },
   "outputs": [],
   "source": [
    "loader = HNLoader(\"https://news.ycombinator.com/item?id=34817881\")"
   ]
  },
  {
   "cell_type": "code",
   "execution_count": 3,
   "id": "c2826836",
   "metadata": {
    "tags": []
   },
   "outputs": [],
   "source": [
    "data = loader.load()"
   ]
  },
  {
   "cell_type": "code",
   "execution_count": 4,
   "id": "fefa2adc",
   "metadata": {
    "tags": []
   },
   "outputs": [
    {
     "data": {
      "text/plain": [
       "\"delta_p_delta_x 73 days ago  \\n             | next [–] \\n\\nAstrophysical and cosmological simulations are often insightful. They're also very cross-disciplinary; besides the obvious astrophysics, there's networking and sysadmin, parallel computing and algorithm theory (so that the simulation programs a\""
      ]
     },
     "execution_count": 4,
     "metadata": {},
     "output_type": "execute_result"
    }
   ],
   "source": [
    "data[0].page_content[:300]"
   ]
  },
  {
   "cell_type": "code",
   "execution_count": 5,
   "id": "938ff4ee",
   "metadata": {
    "tags": []
   },
   "outputs": [
    {
     "data": {
      "text/plain": [
       "{'source': 'https://news.ycombinator.com/item?id=34817881',\n",
       " 'title': 'What Lights the Universe’s Standard Candles?'}"
      ]
     },
     "execution_count": 5,
     "metadata": {},
     "output_type": "execute_result"
    }
   ],
   "source": [
    "data[0].metadata"
   ]
  }
 ],
 "metadata": {
  "kernelspec": {
   "display_name": "Python 3 (ipykernel)",
   "language": "python",
   "name": "python3"
  },
  "language_info": {
   "codemirror_mode": {
    "name": "ipython",
    "version": 3
   },
   "file_extension": ".py",
   "mimetype": "text/x-python",
   "name": "python",
   "nbconvert_exporter": "python",
   "pygments_lexer": "ipython3",
   "version": "3.10.6"
  },
  "vscode": {
   "interpreter": {
    "hash": "c05c795047059754c96cf5f30fd1289e4658e92c92d00704a3cddb24e146e3ef"
   }
  }
 },
 "nbformat": 4,
 "nbformat_minor": 5
}
