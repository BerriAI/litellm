{
 "cells": [
  {
   "cell_type": "markdown",
   "id": "e310c8dc-acd0-48d2-801c-f37ce99acd2d",
   "metadata": {},
   "source": [
    "# acreom"
   ]
  },
  {
   "cell_type": "markdown",
   "id": "04a2c95d-4114-431e-904a-32d79005c28b",
   "metadata": {},
   "source": [
    "[acreom](https://acreom.com) is a dev-first knowledge base with tasks running on local markdown files.\n",
    "\n",
    "Below is an example on how to load a local acreom vault into Langchain. As the local vault in acreom is a folder of plain text .md files, the loader requires the path to the directory. \n",
    "\n",
    "Vault files may contain some metadata which is stored as a YAML header. These values will be added to the document’s metadata if `collect_metadata` is set to true. "
   ]
  },
  {
   "cell_type": "code",
   "execution_count": null,
   "id": "0169bee5-aa7a-4ec7-b7e7-b3bb2e58f3bb",
   "metadata": {},
   "outputs": [],
   "source": [
    "from langchain.document_loaders import AcreomLoader"
   ]
  },
  {
   "cell_type": "code",
   "execution_count": null,
   "id": "c1b49ab3-616b-4149-bef5-7559d65d3d2b",
   "metadata": {},
   "outputs": [],
   "source": [
    "loader = AcreomLoader(\"<path-to-acreom-vault>\", collect_metadata=False)"
   ]
  },
  {
   "cell_type": "code",
   "execution_count": null,
   "id": "3127a018-9c1c-4886-8321-f5666d970a95",
   "metadata": {},
   "outputs": [],
   "source": [
    "docs = loader.load()"
   ]
  }
 ],
 "metadata": {
  "kernelspec": {
   "display_name": "Python 3 (ipykernel)",
   "language": "python",
   "name": "python3"
  },
  "language_info": {
   "codemirror_mode": {
    "name": "ipython",
    "version": 3
   },
   "file_extension": ".py",
   "mimetype": "text/x-python",
   "name": "python",
   "nbconvert_exporter": "python",
   "pygments_lexer": "ipython3",
   "version": "3.10.10"
  }
 },
 "nbformat": 4,
 "nbformat_minor": 5
}
