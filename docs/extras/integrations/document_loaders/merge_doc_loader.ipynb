{
 "cells": [
  {
   "cell_type": "markdown",
   "id": "dd7c3503",
   "metadata": {},
   "source": [
    "# MergeDocLoader\n",
    "\n",
    "Merge the documents returned from a set of specified data loaders."
   ]
  },
  {
   "cell_type": "code",
   "execution_count": 1,
   "id": "e08dfff1",
   "metadata": {},
   "outputs": [],
   "source": [
    "from langchain.document_loaders import WebBaseLoader\n",
    "\n",
    "loader_web = WebBaseLoader(\n",
    "    \"https://github.com/basecamp/handbook/blob/master/37signals-is-you.md\"\n",
    ")"
   ]
  },
  {
   "cell_type": "code",
   "execution_count": 2,
   "id": "07b42b2e",
   "metadata": {},
   "outputs": [],
   "source": [
    "from langchain.document_loaders import PyPDFLoader\n",
    "\n",
    "loader_pdf = PyPDFLoader(\"../MachineLearning-Lecture01.pdf\")"
   ]
  },
  {
   "cell_type": "code",
   "execution_count": 3,
   "id": "912ede96",
   "metadata": {},
   "outputs": [],
   "source": [
    "from langchain.document_loaders.merge import MergedDataLoader\n",
    "\n",
    "loader_all = MergedDataLoader(loaders=[loader_web, loader_pdf])"
   ]
  },
  {
   "cell_type": "code",
   "execution_count": 4,
   "id": "9d001311",
   "metadata": {},
   "outputs": [],
   "source": [
    "docs_all = loader_all.load()"
   ]
  },
  {
   "cell_type": "code",
   "execution_count": 8,
   "id": "b9097486",
   "metadata": {},
   "outputs": [
    {
     "data": {
      "text/plain": [
       "23"
      ]
     },
     "execution_count": 8,
     "metadata": {},
     "output_type": "execute_result"
    }
   ],
   "source": [
    "len(docs_all)"
   ]
  }
 ],
 "metadata": {
  "kernelspec": {
   "display_name": "Python 3 (ipykernel)",
   "language": "python",
   "name": "python3"
  },
  "language_info": {
   "codemirror_mode": {
    "name": "ipython",
    "version": 3
   },
   "file_extension": ".py",
   "mimetype": "text/x-python",
   "name": "python",
   "nbconvert_exporter": "python",
   "pygments_lexer": "ipython3",
   "version": "3.9.16"
  }
 },
 "nbformat": 4,
 "nbformat_minor": 5
}
