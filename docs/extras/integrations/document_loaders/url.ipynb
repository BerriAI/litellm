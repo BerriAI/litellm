{
 "cells": [
  {
   "cell_type": "markdown",
   "id": "2dfc4698",
   "metadata": {},
   "source": [
    "# URL\n",
    "\n",
    "This covers how to load HTML documents from a list of URLs into a document format that we can use downstream."
   ]
  },
  {
   "cell_type": "code",
   "execution_count": 1,
   "id": "16c3699e",
   "metadata": {},
   "outputs": [],
   "source": [
    "from langchain.document_loaders import UnstructuredURLLoader"
   ]
  },
  {
   "cell_type": "code",
   "execution_count": 2,
   "id": "836fbac1",
   "metadata": {},
   "outputs": [],
   "source": [
    "urls = [\n",
    "    \"https://www.understandingwar.org/backgrounder/russian-offensive-campaign-assessment-february-8-2023\",\n",
    "    \"https://www.understandingwar.org/backgrounder/russian-offensive-campaign-assessment-february-9-2023\",\n",
    "]"
   ]
  },
  {
   "cell_type": "markdown",
   "id": "33089aba-ff74-4d00-8f40-9449c29587cc",
   "metadata": {},
   "source": [
    "Pass in ssl_verify=False with headers=headers to get past ssl_verification error."
   ]
  },
  {
   "cell_type": "code",
   "execution_count": 3,
   "id": "00f46fda",
   "metadata": {},
   "outputs": [],
   "source": [
    "loader = UnstructuredURLLoader(urls=urls)"
   ]
  },
  {
   "cell_type": "code",
   "execution_count": 4,
   "id": "b68a26b3",
   "metadata": {},
   "outputs": [],
   "source": [
    "data = loader.load()"
   ]
  },
  {
   "attachments": {},
   "cell_type": "markdown",
   "id": "f3afa135",
   "metadata": {},
   "source": [
    "# Selenium URL Loader\n",
    "\n",
    "This covers how to load HTML documents from a list of URLs using the `SeleniumURLLoader`.\n",
    "\n",
    "Using selenium allows us to load pages that require JavaScript to render.\n",
    "\n",
    "## Setup\n",
    "\n",
    "To use the `SeleniumURLLoader`, you will need to install `selenium` and `unstructured`.\n"
   ]
  },
  {
   "cell_type": "code",
   "execution_count": null,
   "id": "5fc50835",
   "metadata": {},
   "outputs": [],
   "source": [
    "from langchain.document_loaders import SeleniumURLLoader"
   ]
  },
  {
   "cell_type": "code",
   "execution_count": null,
   "id": "24e896ce",
   "metadata": {},
   "outputs": [],
   "source": [
    "urls = [\n",
    "    \"https://www.youtube.com/watch?v=dQw4w9WgXcQ\",\n",
    "    \"https://goo.gl/maps/NDSHwePEyaHMFGwh8\",\n",
    "]"
   ]
  },
  {
   "cell_type": "code",
   "execution_count": null,
   "id": "60a29397",
   "metadata": {},
   "outputs": [],
   "source": [
    "loader = SeleniumURLLoader(urls=urls)"
   ]
  },
  {
   "cell_type": "code",
   "execution_count": null,
   "id": "0090cd57",
   "metadata": {},
   "outputs": [],
   "source": [
    "data = loader.load()"
   ]
  },
  {
   "attachments": {},
   "cell_type": "markdown",
   "id": "a2c1c79f",
   "metadata": {},
   "source": [
    "# Playwright URL Loader\n",
    "\n",
    "This covers how to load HTML documents from a list of URLs using the `PlaywrightURLLoader`.\n",
    "\n",
    "As in the Selenium case, Playwright allows us to load pages that need JavaScript to render.\n",
    "\n",
    "## Setup\n",
    "\n",
    "To use the `PlaywrightURLLoader`, you will need to install `playwright` and `unstructured`. Additionally, you will need to install the Playwright Chromium browser:"
   ]
  },
  {
   "cell_type": "code",
   "execution_count": null,
   "id": "53158417",
   "metadata": {},
   "outputs": [],
   "source": [
    "# Install playwright\n",
    "!pip install \"playwright\"\n",
    "!pip install \"unstructured\"\n",
    "!playwright install"
   ]
  },
  {
   "cell_type": "code",
   "execution_count": null,
   "id": "0ab4e115",
   "metadata": {},
   "outputs": [],
   "source": [
    "from langchain.document_loaders import PlaywrightURLLoader"
   ]
  },
  {
   "cell_type": "code",
   "execution_count": null,
   "id": "ce5a9a0a",
   "metadata": {},
   "outputs": [],
   "source": [
    "urls = [\n",
    "    \"https://www.youtube.com/watch?v=dQw4w9WgXcQ\",\n",
    "    \"https://goo.gl/maps/NDSHwePEyaHMFGwh8\",\n",
    "]"
   ]
  },
  {
   "cell_type": "code",
   "execution_count": null,
   "id": "2dc3e0bc",
   "metadata": {},
   "outputs": [],
   "source": [
    "loader = PlaywrightURLLoader(urls=urls, remove_selectors=[\"header\", \"footer\"])"
   ]
  },
  {
   "cell_type": "code",
   "execution_count": null,
   "id": "10b79f80",
   "metadata": {},
   "outputs": [],
   "source": [
    "data = loader.load()"
   ]
  }
 ],
 "metadata": {
  "kernelspec": {
   "display_name": "Python 3 (ipykernel)",
   "language": "python",
   "name": "python3"
  },
  "language_info": {
   "codemirror_mode": {
    "name": "ipython",
    "version": 3
   },
   "file_extension": ".py",
   "mimetype": "text/x-python",
   "name": "python",
   "nbconvert_exporter": "python",
   "pygments_lexer": "ipython3",
   "version": "3.10.6"
  }
 },
 "nbformat": 4,
 "nbformat_minor": 5
}
