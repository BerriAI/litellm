{
 "cells": [
  {
   "attachments": {},
   "cell_type": "markdown",
   "metadata": {},
   "source": [
    "# Stripe\n",
    "\n",
    ">[Stripe](https://stripe.com/en-ca) is an Irish-American financial services and software as a service (SaaS) company. It offers payment-processing software and application programming interfaces for e-commerce websites and mobile applications.\n",
    "\n",
    "This notebook covers how to load data from the `Stripe REST API` into a format that can be ingested into LangChain, along with example usage for vectorization."
   ]
  },
  {
   "cell_type": "code",
   "execution_count": 1,
   "metadata": {},
   "outputs": [],
   "source": [
    "import os\n",
    "\n",
    "\n",
    "from langchain.document_loaders import StripeLoader\n",
    "from langchain.indexes import VectorstoreIndexCreator"
   ]
  },
  {
   "attachments": {},
   "cell_type": "markdown",
   "metadata": {},
   "source": [
    "The Stripe API requires an access token, which can be found inside of the Stripe dashboard.\n",
    "\n",
    "This document loader also requires a `resource` option which defines what data you want to load.\n",
    "\n",
    "Following resources are available:\n",
    "\n",
    "`balance_transations` [Documentation](https://stripe.com/docs/api/balance_transactions/list)\n",
    "\n",
    "`charges` [Documentation](https://stripe.com/docs/api/charges/list)\n",
    "\n",
    "`customers` [Documentation](https://stripe.com/docs/api/customers/list)\n",
    "\n",
    "`events` [Documentation](https://stripe.com/docs/api/events/list)\n",
    "\n",
    "`refunds` [Documentation](https://stripe.com/docs/api/refunds/list)\n",
    "\n",
    "`disputes` [Documentation](https://stripe.com/docs/api/disputes/list)"
   ]
  },
  {
   "cell_type": "code",
   "execution_count": null,
   "metadata": {},
   "outputs": [],
   "source": [
    "stripe_loader = StripeLoader(\"charges\")"
   ]
  },
  {
   "cell_type": "code",
   "execution_count": null,
   "metadata": {},
   "outputs": [],
   "source": [
    "# Create a vectorstore retriever from the loader\n",
    "# see https://python.langchain.com/en/latest/modules/data_connection/getting_started.html for more details\n",
    "\n",
    "index = VectorstoreIndexCreator().from_loaders([stripe_loader])\n",
    "stripe_doc_retriever = index.vectorstore.as_retriever()"
   ]
  }
 ],
 "metadata": {
  "kernelspec": {
   "display_name": "Python 3 (ipykernel)",
   "language": "python",
   "name": "python3"
  },
  "language_info": {
   "codemirror_mode": {
    "name": "ipython",
    "version": 3
   },
   "file_extension": ".py",
   "mimetype": "text/x-python",
   "name": "python",
   "nbconvert_exporter": "python",
   "pygments_lexer": "ipython3",
   "version": "3.10.6"
  }
 },
 "nbformat": 4,
 "nbformat_minor": 4
}
