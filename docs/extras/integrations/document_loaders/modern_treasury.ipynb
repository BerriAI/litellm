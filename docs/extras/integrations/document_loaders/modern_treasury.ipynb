{
 "cells": [
  {
   "attachments": {},
   "cell_type": "markdown",
   "metadata": {},
   "source": [
    "# Modern Treasury\n",
    "\n",
    ">[Modern Treasury](https://www.moderntreasury.com/) simplifies complex payment operations. It is a unified platform to power products and processes that move money.\n",
    ">- Connect to banks and payment systems\n",
    ">- Track transactions and balances in real-time\n",
    ">- Automate payment operations for scale\n",
    "\n",
    "This notebook covers how to load data from the `Modern Treasury REST API` into a format that can be ingested into LangChain, along with example usage for vectorization."
   ]
  },
  {
   "cell_type": "code",
   "execution_count": 1,
   "metadata": {},
   "outputs": [],
   "source": [
    "import os\n",
    "\n",
    "\n",
    "from langchain.document_loaders import ModernTreasuryLoader\n",
    "from langchain.indexes import VectorstoreIndexCreator"
   ]
  },
  {
   "attachments": {},
   "cell_type": "markdown",
   "metadata": {},
   "source": [
    "The Modern Treasury API requires an organization ID and API key, which can be found in the Modern Treasury dashboard within developer settings.\n",
    "\n",
    "This document loader also requires a `resource` option which defines what data you want to load.\n",
    "\n",
    "Following resources are available:\n",
    "\n",
    "`payment_orders` [Documentation](https://docs.moderntreasury.com/reference/payment-order-object)\n",
    "\n",
    "`expected_payments` [Documentation](https://docs.moderntreasury.com/reference/expected-payment-object)\n",
    "\n",
    "`returns` [Documentation](https://docs.moderntreasury.com/reference/return-object)\n",
    "\n",
    "`incoming_payment_details` [Documentation](https://docs.moderntreasury.com/reference/incoming-payment-detail-object)\n",
    "\n",
    "`counterparties` [Documentation](https://docs.moderntreasury.com/reference/counterparty-object)\n",
    "\n",
    "`internal_accounts` [Documentation](https://docs.moderntreasury.com/reference/internal-account-object)\n",
    "\n",
    "`external_accounts` [Documentation](https://docs.moderntreasury.com/reference/external-account-object)\n",
    "\n",
    "`transactions` [Documentation](https://docs.moderntreasury.com/reference/transaction-object)\n",
    "\n",
    "`ledgers` [Documentation](https://docs.moderntreasury.com/reference/ledger-object)\n",
    "\n",
    "`ledger_accounts` [Documentation](https://docs.moderntreasury.com/reference/ledger-account-object)\n",
    "\n",
    "`ledger_transactions` [Documentation](https://docs.moderntreasury.com/reference/ledger-transaction-object)\n",
    "\n",
    "`events` [Documentation](https://docs.moderntreasury.com/reference/events)\n",
    "\n",
    "`invoices` [Documentation](https://docs.moderntreasury.com/reference/invoices)\n"
   ]
  },
  {
   "cell_type": "code",
   "execution_count": null,
   "metadata": {},
   "outputs": [],
   "source": [
    "modern_treasury_loader = ModernTreasuryLoader(\"payment_orders\")"
   ]
  },
  {
   "cell_type": "code",
   "execution_count": null,
   "metadata": {},
   "outputs": [],
   "source": [
    "# Create a vectorstore retriever from the loader\n",
    "# see https://python.langchain.com/en/latest/modules/data_connection/getting_started.html for more details\n",
    "\n",
    "index = VectorstoreIndexCreator().from_loaders([modern_treasury_loader])\n",
    "modern_treasury_doc_retriever = index.vectorstore.as_retriever()"
   ]
  }
 ],
 "metadata": {
  "kernelspec": {
   "display_name": "Python 3 (ipykernel)",
   "language": "python",
   "name": "python3"
  },
  "language_info": {
   "codemirror_mode": {
    "name": "ipython",
    "version": 3
   },
   "file_extension": ".py",
   "mimetype": "text/x-python",
   "name": "python",
   "nbconvert_exporter": "python",
   "pygments_lexer": "ipython3",
   "version": "3.10.6"
  }
 },
 "nbformat": 4,
 "nbformat_minor": 4
}
