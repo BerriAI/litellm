{
  "cells": [
    {
      "cell_type": "markdown",
      "metadata": {
        "id": "5P0dBVS8sIq2"
      },
      "source": [
        "#SUTRA Using LiteLLM 🚅"
      ]
    },
    {
      "cell_type": "markdown",
      "metadata": {
        "id": "9i36Uy2miiM6"
      },
      "source": [
        "<div style=\"display: flex; align-items: center; gap: 40px;\">\n",
        "\n",
        "<img src=\"https://play-lh.googleusercontent.com/_O9p4Z4yucA2NLmZBu9mTJCuBwXeT9NcbtrDN6I8gKlkIPRySV0adOmbyipjSj9Gew\" width=\"130\">\n",
        "<img src=\"https://pbs.twimg.com/profile_images/1783589223406415872/3KMxGGrF_400x400.jpg\" width=\"130\">\n",
        "\n",
        "\n",
        "\n",
        "\n",
        "\n",
        "<div>\n",
        "  <h2>SUTRA by TWO Platforms </h2>\n",
        "  <p>SUTRA is a family of large multi-lingual language (LMLMs) models pioneered by Two Platforms. SUTRA’s dual-transformer approach extends the power of both MoE and Dense AI language model architectures, delivering cost-efficient multilingual capabilities for over 50+ languages. It powers scalable AI applications for conversation, search, and advanced reasoning, ensuring high-performance across diverse languages, domains and applications.</p>\n",
        "\n",
        "<h2>LiteLLM 🚅</h2>\n",
        "    <p>LiteLLM simplifies access to 100+ large language models (LLMs) with a unified API. It enables easy model integration, spend tracking, rate-limiting, fallbacks, and observability—helping developers manage LLMs like OpenAI, Anthropic, Groq, Cohere, Google, and more from a single interface.</p>\n",
        "  </div>\n",
        "</div>\n",
        "\n"
      ]
    },
    {
      "cell_type": "markdown",
      "metadata": {},
      "source": [
        "\n",
        "[![Open In Colab](https://colab.research.google.com/assets/colab-badge.svg)](https://colab.research.google.com/drive/1GXzlWhayCSxjdvLXHvO9otT7LW3tuNvk?usp=sharing)"
      ]
    },
    {
      "cell_type": "markdown",
      "metadata": {
        "id": "2ihV9u0GjyoE"
      },
      "source": [
        "## Get Your API Keys\n",
        "\n",
        "Before you begin, make sure you have:\n",
        "\n",
        "1. A SUTRA API key (Get yours at [TWO AI's SUTRA API page](https://www.two.ai/sutra/api))\n",
        "2. Basic familiarity with Python and Jupyter notebooks\n",
        "3. Checkout LitLLM Documentation [LitLLM Docs](https://docs.litellm.ai/docs/)\n",
        "\n",
        "This notebook is designed to run in Google Colab, so no local Python installation is required."
      ]
    },
    {
      "cell_type": "markdown",
      "metadata": {
        "id": "qb1D4-IgkDJ6"
      },
      "source": [
        "###Install Requirements"
      ]
    },
    {
      "cell_type": "code",
      "execution_count": null,
      "metadata": {
        "id": "wr9gUotyihbT"
      },
      "outputs": [],
      "source": [
        "# Install required packages\n",
        "!pip install litellm"
      ]
    },
    {
      "cell_type": "markdown",
      "metadata": {
        "id": "9UiR-Xy2kU0F"
      },
      "source": [
        "###Setup API Keys"
      ]
    },
    {
      "cell_type": "code",
      "execution_count": null,
      "metadata": {
        "id": "PK09HAeAkXqn"
      },
      "outputs": [],
      "source": [
        "import os\n",
        "from google.colab import userdata\n",
        "\n",
        "# Set the API key from Colab secrets\n",
        "os.environ[\"SUTRA_API_KEY\"] = userdata.get(\"SUTRA_API_KEY\")"
      ]
    },
    {
      "cell_type": "markdown",
      "metadata": {
        "id": "BmSHlwQBkcKE"
      },
      "source": [
        "###Initialize Sutra Model via LiteLLM 🚅:"
      ]
    },
    {
      "cell_type": "code",
      "execution_count": null,
      "metadata": {
        "id": "rN_VubTWkoJq"
      },
      "outputs": [],
      "source": [
        "import os\n",
        "import litellm\n",
        "\n",
        "# Environment variable for better security\n",
        "api_key = os.environ.get(\"SUTRA_API_KEY\")\n",
        "\n",
        "# Call the Sutra LLM via LiteLLM\n",
        "response = litellm.completion(\n",
        "    model=\"openai/sutra-v2\",\n",
        "    api_key=api_key,\n",
        "    api_base=\"https://api.two.ai/v2\",\n",
        "    messages=[\n",
        "        {\n",
        "            \"role\": \"user\",\n",
        "            \"content\": \"मुझे मंगल ग्रह के बारे में 5 पैराग्राफ दीजिए\"\n",
        "        }\n",
        "    ],\n",
        "    temperature=0.7,\n",
        "    max_tokens=500\n",
        ")\n",
        "\n",
        "print(response['choices'][0]['message']['content'])"
      ]
    },
    {
      "cell_type": "markdown",
      "metadata": {
        "id": "uMd7W3-jljhb"
      },
      "source": [
        "###Example 1: Streaming Response :"
      ]
    },
    {
      "cell_type": "code",
      "execution_count": null,
      "metadata": {
        "id": "FEInYJyXlp8T"
      },
      "outputs": [],
      "source": [
        "response = litellm.completion(\n",
        "    model=\"openai/sutra-v2\",\n",
        "    api_key=api_key,\n",
        "    api_base=\"https://api.two.ai/v2\",\n",
        "    messages=[\n",
        "        {\n",
        "            \"role\": \"user\",\n",
        "            \"content\": \"Explain quantum computing in simple terms\"\n",
        "        }\n",
        "    ],\n",
        "    temperature=0.8,\n",
        "    max_tokens=1024,\n",
        "    stream=True\n",
        ")\n",
        "\n",
        "for chunk in response:\n",
        "    if chunk.choices[0].delta.content is not None:\n",
        "        print(chunk.choices[0].delta.content, end='')"
      ]
    },
    {
      "cell_type": "markdown",
      "metadata": {
        "id": "TljQpjoamM4l"
      },
      "source": [
        "### Example 2: Code Generation :"
      ]
    },
    {
      "cell_type": "code",
      "execution_count": null,
      "metadata": {
        "id": "0nEE9QXPmrrM"
      },
      "outputs": [],
      "source": [
        "response = litellm.completion(\n",
        "    model=\"openai/sutra-v2\",\n",
        "    api_key=api_key,\n",
        "    api_base=\"https://api.two.ai/v2\",\n",
        "    messages=[\n",
        "        {\n",
        "            \"role\": \"user\",\n",
        "            \"content\": \"Write a Python function to find the factorial of a number using recursion\"\n",
        "        }\n",
        "    ],\n",
        "    temperature=0.5,\n",
        "    max_tokens=700\n",
        ")\n",
        "\n",
        "print(response['choices'][0]['message']['content'])"
      ]
    },
    {
      "cell_type": "markdown",
      "metadata": {
        "id": "UqSd4oBzpqAu"
      },
      "source": [
        "### Example 3: Multilingual Support :"
      ]
    },
    {
      "cell_type": "code",
      "execution_count": null,
      "metadata": {
        "id": "cl64p6qIppc8"
      },
      "outputs": [],
      "source": [
        "languages = [\"Hindi\", \"Tamil\", \"Bengali\", \"Spanish\", \"Arabic\"]\n",
        "questions = [\n",
        "    \"भारतीय स्वतंत्रता संग्राम के बारे में बताइए\",\n",
        "    \"தமிழ் நாடு பற்றி எழுதுங்கள்\",\n",
        "    \"বাংলা সাহিত্যের ইতিহাস কী?\",\n",
        "    \"¿Qué es la inteligencia artificial?\",\n",
        "    \"ما هو الذكاء الاصطناعي؟\"\n",
        "]\n",
        "for lang, q in zip(languages, questions):\n",
        "    print(f\"\\n--- {lang} ---\")\n",
        "    response = litellm.completion(\n",
        "        model=\"openai/sutra-v2\",\n",
        "        api_key=api_key,\n",
        "        api_base=\"https://api.two.ai/v2\",\n",
        "        messages=[{\"role\": \"user\", \"content\": q}],\n",
        "        temperature=0.6,\n",
        "        max_tokens=500\n",
        "    )\n",
        "    print(response['choices'][0]['message']['content'])"
      ]
    },
    {
      "cell_type": "markdown",
      "metadata": {
        "id": "bDLYeq9hnAWT"
      },
      "source": [
        " ### Example 4:Multilingual Translation :"
      ]
    },
    {
      "cell_type": "code",
      "execution_count": null,
      "metadata": {
        "id": "eQWHP8CWnIkZ"
      },
      "outputs": [],
      "source": [
        "translations = [\n",
        "    (\"English\", \"Hindi\", \"Artificial Intelligence is transforming every industry.\"),\n",
        "    (\"English\", \"Japanese\", \"The global economy is experiencing rapid changes.\"),\n",
        "    (\"English\", \"Arabic\", \"Climate change is a pressing global issue.\"),\n",
        "    (\"English\", \"Tamil\", \"Education is the foundation of a strong society.\"),\n",
        "    (\"English\", \"French\", \"Healthcare innovation is advancing at an incredible pace.\")\n",
        "]\n",
        "\n",
        "for source_lang, target_lang, text in translations:\n",
        "    print(f\"\\n=== {source_lang} → {target_lang} ===\")\n",
        "    prompt = f\"Translate the following {source_lang} sentence into {target_lang}:\\n\\n{text}\"\n",
        "\n",
        "    response = litellm.completion(\n",
        "        model=\"openai/sutra-v2\",\n",
        "        api_key=api_key,\n",
        "        api_base=\"https://api.two.ai/v2\",\n",
        "        messages=[\n",
        "            {\"role\": \"user\", \"content\": prompt}\n",
        "        ],\n",
        "        temperature=0.3,\n",
        "        max_tokens=200\n",
        "    )\n",
        "\n",
        "    print(\"Original:\", text)\n",
        "    print(\"Translated:\", response['choices'][0]['message']['content'])"
      ]
    },
    {
      "cell_type": "markdown",
      "metadata": {
        "id": "7C4DPpLGoYVf"
      },
      "source": [
        "###Building a Simple Chatbot with LiteLLM 🚅"
      ]
    },
    {
      "cell_type": "code",
      "execution_count": null,
      "metadata": {
        "id": "6mxWqVACoge3"
      },
      "outputs": [],
      "source": [
        "import os\n",
        "import litellm\n",
        "\n",
        "# Basic chat loop with history\n",
        "print(\"Chatbot (Sutra): Hello! Type 'exit' to end the conversation.\\n\")\n",
        "\n",
        "chat_history = []\n",
        "\n",
        "while True:\n",
        "    user_input = input(\"You: \")\n",
        "\n",
        "    if user_input.lower() == \"exit\":\n",
        "        print(\"Chatbot: Goodbye! 👋\")\n",
        "        break\n",
        "\n",
        "    chat_history.append({\"role\": \"user\", \"content\": user_input})\n",
        "\n",
        "    try:\n",
        "        response = litellm.completion(\n",
        "            model=\"openai/sutra-v2\",\n",
        "            api_key=api_key,\n",
        "            api_base=\"https://api.two.ai/v2\",\n",
        "            messages=chat_history,\n",
        "            temperature=0.7,\n",
        "            max_tokens=500,\n",
        "        )\n",
        "\n",
        "        reply = response[\"choices\"][0][\"message\"][\"content\"]\n",
        "        print(\"Chatbot:\", reply)\n",
        "\n",
        "        chat_history.append({\"role\": \"assistant\", \"content\": reply})\n",
        "\n",
        "    except Exception as e:\n",
        "        print(\"Error:\", str(e))\n"
      ]
    }
  ],
  "metadata": {
    "colab": {
      "provenance": []
    },
    "kernelspec": {
      "display_name": "Python 3",
      "name": "python3"
    },
    "language_info": {
      "name": "python"
    }
  },
  "nbformat": 4,
  "nbformat_minor": 0
}
